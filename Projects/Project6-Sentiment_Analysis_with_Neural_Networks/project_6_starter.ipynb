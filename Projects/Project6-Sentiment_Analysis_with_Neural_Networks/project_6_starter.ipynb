{
 "cells": [
  {
   "cell_type": "markdown",
   "metadata": {},
   "source": [
    "# Project 6: Analyzing Stock Sentiment from Twits\n",
    "## Instructions\n",
    "Each problem consists of a function to implement and instructions on how to implement the function.  The parts of the function that need to be implemented are marked with a `# TODO` comment.\n",
    "\n",
    "## Packages\n",
    "When you implement the functions, you'll only need to you use the packages you've used in the classroom, like [Pandas](https://pandas.pydata.org/) and [Numpy](http://www.numpy.org/). These packages will be imported for you. We recommend you don't add any import statements, otherwise the grader might not be able to run your code.\n",
    "\n",
    "### Load Packages"
   ]
  },
  {
   "cell_type": "code",
   "execution_count": 1,
   "metadata": {},
   "outputs": [],
   "source": [
    "import json\n",
    "import nltk\n",
    "import os\n",
    "import random\n",
    "import re\n",
    "import torch\n",
    "import numpy as np\n",
    "\n",
    "from torch import nn, optim\n",
    "import torch.nn.functional as F"
   ]
  },
  {
   "cell_type": "markdown",
   "metadata": {},
   "source": [
    "## Introduction\n",
    "When deciding the value of a company, it's important to follow the news. For example, a product recall or natural disaster in a company's product chain. You want to be able to turn this information into a signal. Currently, the best tool for the job is a Neural Network. \n",
    "\n",
    "For this project, you'll use posts from the social media site [StockTwits](https://en.wikipedia.org/wiki/StockTwits). The community on StockTwits is full of investors, traders, and entrepreneurs. Each message posted is called a Twit. This is similar to Twitter's version of a post, called a Tweet. You'll build a model around these twits that generate a sentiment score.\n",
    "\n",
    "We've collected a bunch of twits, then hand labeled the sentiment of each. To capture the degree of sentiment, we'll use a five-point scale: very negative, negative, neutral, positive, very positive. Each twit is labeled -2 to 2 in steps of 1, from very negative to very positive respectively. You'll build a sentiment analysis model that will learn to assign sentiment to twits on its own, using this labeled data.\n",
    "\n",
    "The first thing we should to do, is load the data.\n",
    "\n",
    "## Import Twits \n",
    "### Load Twits Data \n",
    "This JSON file contains a list of objects for each twit in the `'data'` field:\n",
    "\n",
    "```\n",
    "{'data':\n",
    "  {'message_body': 'Neutral twit body text here',\n",
    "   'sentiment': 0},\n",
    "  {'message_body': 'Happy twit body text here',\n",
    "   'sentiment': 1},\n",
    "   ...\n",
    "}\n",
    "```\n",
    "\n",
    "The fields represent the following:\n",
    "\n",
    "* `'message_body'`: The text of the twit.\n",
    "* `'sentiment'`: Sentiment score for the twit, ranges from -2 to 2 in steps of 1, with 0 being neutral.\n",
    "\n",
    "\n",
    "To see what the data look like by printing the first 10 twits from the list. "
   ]
  },
  {
   "cell_type": "code",
   "execution_count": 2,
   "metadata": {},
   "outputs": [
    {
     "name": "stdout",
     "output_type": "stream",
     "text": [
      "[{'message_body': '$FITB great buy at 26.00...ill wait', 'sentiment': 2, 'timestamp': '2018-07-01T00:00:09Z'}, {'message_body': '@StockTwits $MSFT', 'sentiment': 1, 'timestamp': '2018-07-01T00:00:42Z'}, {'message_body': '#STAAnalystAlert for $TDG : Jefferies Maintains with a rating of Hold setting target price at USD 350.00. Our own verdict is Buy  http://www.stocktargetadvisor.com/toprating', 'sentiment': 2, 'timestamp': '2018-07-01T00:01:24Z'}, {'message_body': '$AMD I heard there’s a guy who knows someone who thinks somebody knows something - on StockTwits.', 'sentiment': 1, 'timestamp': '2018-07-01T00:01:47Z'}, {'message_body': '$AMD reveal yourself!', 'sentiment': 0, 'timestamp': '2018-07-01T00:02:13Z'}, {'message_body': '$AAPL Why the drop? I warren Buffet taking out his position?', 'sentiment': 1, 'timestamp': '2018-07-01T00:03:10Z'}, {'message_body': '$BA bears have 1 reason on 06-29 to pay more attention https://dividendbot.com?s=BA', 'sentiment': -2, 'timestamp': '2018-07-01T00:04:09Z'}, {'message_body': '$BAC ok good we&#39;re not dropping in price over the weekend, lol', 'sentiment': 1, 'timestamp': '2018-07-01T00:04:17Z'}, {'message_body': '$AMAT - Daily Chart, we need to get back to above 50.', 'sentiment': 2, 'timestamp': '2018-07-01T00:08:01Z'}, {'message_body': '$GME 3% drop per week after spike... if no news in 3 months, back to 12s... if BO, then bingo... what is the odds?', 'sentiment': -2, 'timestamp': '2018-07-01T00:09:03Z'}]\n"
     ]
    }
   ],
   "source": [
    "with open(os.path.join('..', '..', 'data', 'project_6_stocktwits', 'twits.json'), 'r') as f:\n",
    "    twits = json.load(f)\n",
    "print(twits['data'][:10])"
   ]
  },
  {
   "cell_type": "markdown",
   "metadata": {},
   "source": [
    "### Length of Data\n",
    "Now let's look at the number of twits in dataset. Print the number of twits below."
   ]
  },
  {
   "cell_type": "code",
   "execution_count": 3,
   "metadata": {},
   "outputs": [
    {
     "name": "stdout",
     "output_type": "stream",
     "text": [
      "1548010\n"
     ]
    }
   ],
   "source": [
    "\"\"\"print out the number of twits\"\"\"\n",
    "\n",
    "# TODO Implement \n",
    "print(len(twits['data']))\n"
   ]
  },
  {
   "cell_type": "markdown",
   "metadata": {},
   "source": [
    "### Split Message Body and Sentiment Score"
   ]
  },
  {
   "cell_type": "code",
   "execution_count": 4,
   "metadata": {},
   "outputs": [],
   "source": [
    "messages = [twit['message_body'] for twit in twits['data']]\n",
    "# Since the sentiment scores are discrete, we'll scale the sentiments to 0 to 4 for use in our network\n",
    "sentiments = [twit['sentiment'] + 2 for twit in twits['data']]"
   ]
  },
  {
   "cell_type": "markdown",
   "metadata": {},
   "source": [
    "## Preprocessing the Data\n",
    "With our data in hand we need to preprocess our text. These twits are collected by filtering on ticker symbols where these are denoted with a leader $ symbol in the twit itself. For example,\n",
    "\n",
    "`{'message_body': 'RT @google Our annual look at the year in Google blogging (and beyond) http://t.co/sptHOAh8 $GOOG',\n",
    " 'sentiment': 0}`\n",
    "\n",
    "The ticker symbols don't provide information on the sentiment, and they are in every twit, so we should remove them. This twit also has the `@google` username, again not providing sentiment information, so we should also remove it. We also see a URL `http://t.co/sptHOAh8`. Let's remove these too.\n",
    "\n",
    "The easiest way to remove specific words or phrases is with regex using the `re` module. You can sub out specific patterns with a space:\n",
    "\n",
    "```python\n",
    "re.sub(pattern, ' ', text)\n",
    "```\n",
    "This will substitute a space with anywhere the pattern matches in the text. Later when we tokenize the text, we'll split appropriately on those spaces."
   ]
  },
  {
   "cell_type": "markdown",
   "metadata": {},
   "source": [
    "### Pre-Processing"
   ]
  },
  {
   "cell_type": "code",
   "execution_count": 5,
   "metadata": {},
   "outputs": [
    {
     "name": "stderr",
     "output_type": "stream",
     "text": [
      "[nltk_data] Downloading package wordnet to\n",
      "[nltk_data]     C:\\Users\\Phil\\AppData\\Roaming\\nltk_data...\n",
      "[nltk_data]   Package wordnet is already up-to-date!\n"
     ]
    }
   ],
   "source": [
    "nltk.download('wordnet')\n",
    "\n",
    "\n",
    "def preprocess(message):\n",
    "    \"\"\"\n",
    "    This function takes a string as input, then performs these operations: \n",
    "        - lowercase\n",
    "        - remove URLs\n",
    "        - remove ticker symbols \n",
    "        - removes punctuation\n",
    "        - tokenize by splitting the string on whitespace \n",
    "        - removes any single character tokens\n",
    "    \n",
    "    Parameters\n",
    "    ----------\n",
    "        message : The text message to be preprocessed.\n",
    "        \n",
    "    Returns\n",
    "    -------\n",
    "        tokens: The preprocessed text into tokens.\n",
    "    \"\"\" \n",
    "     #TODO: Implement \n",
    "    \n",
    "    # Lowercase the twit message\n",
    "    text = message.lower()\n",
    "    \n",
    "    # Replace URLs with a space in the message\n",
    "    #re.sub(pattern, ' ', text)\n",
    "    text = re.sub(r'http\\S+', ' ', text)\n",
    "    \n",
    "    # Replace ticker symbols with a space. The ticker symbols are \n",
    "    #any stock symbol that starts with $.\n",
    "    text = re.sub(r\"[$]\\w+\", \" \", text)\n",
    "    \n",
    "    # Replace StockTwits usernames with a space. The usernames are any word that starts with @.\n",
    "    text = re.sub(r\"[@]\\w+\", \" \", text)\n",
    "    \n",
    "    # Replace everything not a letter with a space\n",
    "    text = re.sub('[^a-zA-Z]', \" \", text)\n",
    "    \n",
    "    # Tokenize by splitting the string on whitespace into a list of words\n",
    "    tokens = re.sub(r\"\\b[a-zA-Z]\\b\", \"\", text)\n",
    "    tokens = tokens.split()\n",
    "\n",
    "    # Lemmatize words using the WordNetLemmatizer. You can ignore any word that is not longer than one character.\n",
    "    \n",
    "    wnl = nltk.stem.WordNetLemmatizer()\n",
    "    token = [wnl.lemmatize(word) for word in tokens if len(word)>1]\n",
    "    \n",
    "    return token"
   ]
  },
  {
   "cell_type": "markdown",
   "metadata": {},
   "source": [
    "### Preprocess All the Twits \n",
    "Now we can preprocess each of the twits in our dataset. Apply the function `preprocess` to all the twit messages."
   ]
  },
  {
   "cell_type": "code",
   "execution_count": 6,
   "metadata": {
    "scrolled": true
   },
   "outputs": [],
   "source": [
    "# TODO Implement\n",
    "\n",
    "tokenized =[preprocess(message) for message in messages]\n",
    "#tokenized[:3]"
   ]
  },
  {
   "cell_type": "markdown",
   "metadata": {},
   "source": [
    "### Bag of Words\n",
    "Now with all of our messages tokenized, we want to create a vocabulary and count up how often each word appears in our entire corpus. Use the [`Counter`](https://docs.python.org/3.1/library/collections.html#collections.Counter) function to count up all the tokens."
   ]
  },
  {
   "cell_type": "code",
   "execution_count": 7,
   "metadata": {},
   "outputs": [],
   "source": [
    "from collections import Counter\n",
    "\n",
    "\n",
    "\"\"\"\n",
    "Create a vocabulary by using Bag of words\n",
    "\"\"\"\n",
    "\n",
    "# TODO: Implement\n",
    "#vocab = [token for tokens in tokenized for token in tokens]\n",
    "#bow = Counter(vocab)\n",
    "\n",
    "tokens = []\n",
    "for token in tokenized:\n",
    "    for word in token:\n",
    "        tokens.append(word)\n",
    "\n",
    "bow = Counter(tokens)"
   ]
  },
  {
   "cell_type": "markdown",
   "metadata": {},
   "source": [
    "### Frequency of Words Appearing in Message\n",
    "With our vocabulary, now we'll remove some of the most common words such as 'the', 'and', 'it', etc. These words don't contribute to identifying sentiment and are really common, resulting in a lot of noise in our input. If we can filter these out, then our network should have an easier time learning.\n",
    "\n",
    "We also want to remove really rare words that show up in a only a few twits. Here you'll want to divide the count of each word by the number of messages. Then remove words that only appear in some small fraction of the messages."
   ]
  },
  {
   "cell_type": "code",
   "execution_count": 8,
   "metadata": {},
   "outputs": [
    {
     "name": "stdout",
     "output_type": "stream",
     "text": [
      "['the', 'to', 'is', 'for', 'on', 'of', 'and', 'in', 'this', 'it']\n"
     ]
    },
    {
     "data": {
      "text/plain": [
       "98404"
      ]
     },
     "execution_count": 8,
     "metadata": {},
     "output_type": "execute_result"
    }
   ],
   "source": [
    "\"\"\"\n",
    "Set the following variables:\n",
    "    freqs\n",
    "    low_cutoff\n",
    "    high_cutoff\n",
    "    K_most_common\n",
    "\"\"\"\n",
    "\n",
    "# TODO Implement \n",
    "\n",
    "# Dictionart that contains the Frequency of words appearing in messages.\n",
    "# The key is the token and the value is the frequency of that word in the corpus.\n",
    "freqs = {word: bow[word]/len(bow) for id, word in enumerate(bow)}\n",
    "\n",
    "# Float that is the frequency cutoff. Drop words with a frequency that is lower or equal to this number.\n",
    "low_cutoff = 0.000007\n",
    "\n",
    "# Integer that is the cut off for most common words. Drop words that are the `high_cutoff` most common words.\n",
    "high_cutoff = 10\n",
    "\n",
    "# The k most common words in the corpus. Use `high_cutoff` as the k.\n",
    "K_most_common = [x[0] for x in bow.most_common(high_cutoff)]\n",
    "\n",
    "\n",
    "filtered_words = [word for word in freqs if (freqs[word] > low_cutoff and word not in K_most_common)]\n",
    "print(K_most_common)\n",
    "len(filtered_words) "
   ]
  },
  {
   "cell_type": "markdown",
   "metadata": {},
   "source": [
    "### Updating Vocabulary by Removing Filtered Words\n",
    "Let's creat three variables that will help with our vocabulary."
   ]
  },
  {
   "cell_type": "code",
   "execution_count": 9,
   "metadata": {},
   "outputs": [
    {
     "data": {
      "application/vnd.jupyter.widget-view+json": {
       "model_id": "a4f9f9725fba4b748b5d02ff549ab3ff",
       "version_major": 2,
       "version_minor": 0
      },
      "text/plain": [
       "HBox(children=(IntProgress(value=0, max=1548010), HTML(value='')))"
      ]
     },
     "metadata": {},
     "output_type": "display_data"
    },
    {
     "name": "stdout",
     "output_type": "stream",
     "text": [
      "\n"
     ]
    }
   ],
   "source": [
    "\"\"\"\n",
    "Set the following variables:\n",
    "    vocab\n",
    "    id2vocab\n",
    "    filtered\n",
    "\"\"\"\n",
    "\n",
    "#TODO Implement\n",
    "from tqdm import tqdm_notebook as tqdm\n",
    "# A dictionary for the `filtered_words`. The key is the word and value is an id that represents the word.\n",
    "vocab = {word: idx for idx, word in enumerate(filtered_words)}\n",
    "# Reverse of the `vocab` dictionary. The key is word id and value is the word. \n",
    "id2vocab = dict(map(reversed, vocab.items()))\n",
    "# tokenized with the words not in `filtered_words` removed.\n",
    "filtered = [[word for word in message if word in vocab] for message in tqdm(tokenized)]\n"
   ]
  },
  {
   "cell_type": "code",
   "execution_count": 10,
   "metadata": {},
   "outputs": [
    {
     "name": "stdout",
     "output_type": "stream",
     "text": [
      "[['great', 'buy', 'at', 'ill', 'wait'], [], ['staanalystalert', 'jefferies', 'maintains', 'with', 'rating', 'hold', 'setting', 'target', 'price', 'at', 'usd', 'our', 'own', 'verdict', 'buy'], ['heard', 'there', 'guy', 'who', 'know', 'someone', 'who', 'think', 'somebody', 'know', 'something', 'stocktwits'], ['reveal', 'yourself'], ['why', 'drop', 'warren', 'buffet', 'taking', 'out', 'his', 'position'], ['bear', 'have', 'reason', 'pay', 'more', 'attention'], ['ok', 'good', 'we', 're', 'not', 'dropping', 'price', 'over', 'weekend', 'lol'], ['daily', 'chart', 'we', 'need', 'get', 'back', 'above'], ['drop', 'per', 'week', 'after', 'spike', 'if', 'no', 'news', 'month', 'back', 'if', 'bo', 'then', 'bingo', 'what', 'odds'], ['strong', 'buy'], ['short', 'ratio', 'at', 'short', 'float', 'via'], ['price', 'squeezing', 'perfect', 'place', 'an', 'option', 'straddle', 'near', 'supporting', 'trend'], ['start', 'new', 'monday', 'expect', 'strong', 'buy', 'volume', 'across', 'key', 'company', 'various', 'sector'], ['breakout', 'strategy', 'current', 'portfolio'], ['bull', 'have', 'reason', 'pay', 'more', 'attention'], ['catalyst', 'continuing', 'new', 'uptrend', 'pill', 'pack', 'buy', 'out', 'amazon', 'prime', 'day', 'earnings', 'test', 'break', 'soon'], ['ha', 'moved', 'check', 'out', 'movement', 'peer', 'at'], ['staanalystalert', 'mkm', 'partner', 'set', 'price', 'target', 'with', 'rating', 'buy', 'setting', 'target', 'price', 'at', 'usd', 'our', 'own', 'verdict', 'buy'], ['think', 'too', 'early', 'tell', 'what', 'going', 'happen', 'monday', 'even', 'with', 'current', 'news', 'about', 'raisinf', 'output', 'there', 'still', 'so', 'many'], ['ha', 'current', 'ratio', 'so', 'financially', 'healthy', 'ha', 'no', 'problem', 'meeting', 'obligation'], ['bullish', 'stock', 'watch', 'setup', 'timeframes', 'blog', 'by'], ['just', 'short'], ['high', 'alert', 'next', 'week', 'gt', 'breakdown'], ['current', 'ratio', 'much', 'better', 'than', 'industry', 'average'], ['miss', 'these', 'day'], ['if', 'break', 'confirms', 'next', 'week', 'you', 'will', 'see', 'violent', 'move', 'downward', 'my', 'buy', 'price'], ['bear', 'have', 'reason', 'pay', 'more', 'attention'], ['breakout', 'base', 'gap', 'day', 'ma', 'gap', 'gap', 'gap', 'day', 'ma'], ['cabot', 'weekly', 'video', 'quot', 'resilient', 'growth', 'stock', 'watch', 'quot'], ['when', 'wa', 'kid', 'my', 'froend', 'told', 'me', 'moon', 'wa', 'made', 'out', 'cheese'], ['short', 'volume', 'percent', 'wa', 'day', 'rank', 'wa', 'th', 'percentile'], ['thank', 'you', 'don', 'feel', 'need', 'tell', 'or', 'do', 'well', 'me', 'they', 'already', 'have'], ['during', 'youtube', 'interview', 'mitch', 'couldn', 'remember', 'single', 'movie', 'he', 'watched', 'all', 'year', 'except', 'star', 'war', 'black', 'panther', 'clothes'], ['staanalystalert', 'jefferies', 'downgrade', 'with', 'rating', 'hold', 'setting', 'target', 'price', 'at', 'usd', 'our', 'own', 'verdict', 'hold'], ['short', 'sale', 'volume', 'not', 'short', 'interest', 'via'], ['ha', 'better', 'return', 'equity', 'than', 'industry', 'average'], ['although', 'market', 'up', 'doing', 'even', 'better', 'ha', 'advanced', 'a', 'more', 'info', 'peer', 'at'], ['july', 'will', 'be', 'most', 'bullish', 'day', 'year', 'stock'], ['option', 'volume', 'wa', 'normal', 'friday', 'with', 'contract', 'call', 'volume', 'wa', 'put', 'volume', 'wa'], ['third', 'design', 'win', 'timing', 'match', 'probably', 'arm'], ['alcohol', 'stock', 'tobacco', 'stock', 'firearm', 'stock', 'buy'], ['president', 'trump', 'tweet', 'just', 'spoke', 'king', 'salman', 'saudi', 'arabia', 'explained', 'him', 'that', 'because', 'turmoil', 'amp'], ['today', 'insight'], ['intc', 'mama', 'said', 'get', 'ice', 'cream', 'if', 'finish', 'my', 'due', 'dil'], ['just', 'noticed', 'they', 'have', 'last', 'jedi', 'stream', 'love', 'stock'], ['here', 'you', 'go', 'will', 'just', 'leave', 'here'], ['good', 'view', 'daily', 'still', 'look', 'good', 'ema', 'held', 'above', 'ema', 'stochastics', 'turning', 'healthy', 'a', 'spy', 'qqq', 'opposite'], ['with', 'forward', 'pe', 'valuation', 'can', 'be', 'described', 'a', 'cheap'], ['saber', 'capital', 'presentation', 'common', 'denominator', 'tencent', 'facebook', 'google'], ['how', 'expect', 'earnings'], ['one', 'better', 'performing', 'stock', 'crude', 'petroleum', 'natural', 'gas', 'industry'], ['pu', 'simply', 'havent', 'lost', 'any', 'brown', 'guy', 'run', 'tech', 'company', 'mf', 'are', 'well', 'educated', 'know', 'their', 'shit', 'more', 'more', 'every', 'year'], ['former', 'president', 'global', 'manufacturing', 'at', 'pfizer', 'an', 'independent', 'director', 'at', 'nat', 'ricciardi'], ['may', 'be', 'safest', 'stock', 'own'], ['special', 'limited', 'offer', 'june', 'th', 'june', 'th', 'tradenet', 'offering', 'discount', 'intro', 'program'], ['below', 'buy', 'put', 'financials'], ['great', 'summary', 'jeff', 'gundlach', 'sohn', 'presentation', 'long', 'thesis', 'energy', 'stock'], ['low', 'peg', 'ratio', 'which', 'compensates', 'pe', 'growth', 'indicates', 'rather', 'cheap', 'valuation'], ['great', 'summary', 'jeff', 'gundlach', 'sohn', 'pres', 'long', 'thesis', 'energy', 'equity'], ['coming'], ['seems', 'support', 'next', 'if', 'under', 'likely'], ['ha', 'moved', 'check', 'out', 'movement', 'peer', 'at'], ['bullshit', 'worthless', 'mean', 'fucking', 'nothing', 'macau', 'not', 'fucking', 'usa'], ['take', 'let', 'me', 'know', 'where', 'are', 'we', 'right', 'now', 'lol'], ['chart', 'look', 'so', 'ugly', 'without', 'clear', 'support', 'level', 'short', 'term', 'bearish', 'll', 'buy', 'when', 'at'], ['great', 'summary', 'jeff', 'gundlach', 'sohn', 'presentation', 'long', 'thesis', 'energy', 'stock'], ['previously', 'there', 'wa', 'mo', 'run', 'up', 'followed', 'by', 'drop', 'we', 'are', 'at', 'end', 'month', 'another', 'runup', 'have', 'dropped', 'about'], ['smart', 'money', 'betting', 'call', 'deal', 'update'], ['although', 'technical', 'rating', 'bad', 'doe', 'present', 'nice', 'setup', 'opportunity'], ['will', 'completely', 'scale', 'out', 'time', 'gobble', 'up', 'my', 'next', 'long', 'play', 'aka', 'my', 'favorite', 'gt'], ['short', 'sale', 'volume', 'not', 'short', 'interest', 'via'], ['them', 'are', 'iddy', 'bitty', 'kiddy', 'hand'], ['short', 'interest', 'ratio', 'at', 'short', 'float', 'via'], ['then', 'awesome', 'now', 'be', 'concerned', 'if', 'not', 'over', 'by', 'eow', 'might', 'get', 'under', 'next', 'wk', 'or', 'soon'], ['throwback'], ['staanalystalert', 'u', 'capital', 'advisor', 'upgrade', 'with', 'rating', 'hold', 'our', 'own', 'verdict', 'buy'], ['lol', 'all', 'these', 'shorties', 'are', 'dreaming', 'great', 'depression', 'or', 'somethin', 'loll'], ['just', 'updated', 'hormel', 'food', 'dividend', 'king', 'stock', 'analysis', 'dividend', 'king', 'consumer', 'defensive'], ['today', 'insight'], ['just', 'updated', 'intel', 'valuation', 'profitability', 'dividend', 'safety', 'score', 'analysis', 'dividend', 'technology'], ['today', 'insight'], ['long', 'short', 'term', 'trend', 'are', 'both', 'positive', 'looking', 'good'], ['they', 'so', 'mad', 'at', 'me', 'still'], ['back', 'by', 'july'], ['report', 'block', 'person', 'spam'], ['should', 'open', 'at', 'monday'], ['my', 'projection', 'if', 'thats', 'true', 'under', 'next', 'week', 'thats', 'why', 'prefer', 'buy', 'from', 'support', 'level'], ['what', 'turd'], ['percent', 'short', 'volume', 'wa'], ['wal', 'mart', 'dividend', 'aristocrat', 'dividend', 'aristocrat', 'consumer', 'defensive', 'valueinvesting', 'dvb', 'aaamp'], ['looking', 'marriage', 'have', 'my', 'bank', 'account', 'with', 'stock', 'dm'], ['short', 'ratio', 'at', 'short', 'float', 'via'], ['that', 'bear', 'that', 'won', 'stop', 'posting', 'holding', 'big', 'short', 'position', 'over', 'weekend', 'calm', 'down', 'good', 'luck', 'lol'], ['chase', 'continues', 'hopefully', 'they', 'catch', 'him', 'before', 'lisa', 'announces', 'rd', 'win'], ['price', 'earnings', 'ratio', 'which', 'indicates', 'rather', 'cheap', 'valuation'], ['permamently', 'turned', 'me', 'off', 'option', 'trading', 'maybe', 'stock', 'altogether', 'manipulation', 'by', 'very', 'rich', 'make', 'me', 'very', 'poor', 'fuk'], ['down', 'almost', 'pct', 'from', 'week', 'high', 'about', 'time', 'buyback', 'got', 'more', 'share', 'my', 'account', 'though', 'from', 'drip'], ['option', 'volume', 'wa', 'normal', 'friday', 'with', 'contract', 'call', 'volume', 'wa', 'put', 'volume', 'wa'], []]"
     ]
    },
    {
     "name": "stdout",
     "output_type": "stream",
     "text": [
      "\n"
     ]
    }
   ],
   "source": [
    "print(filtered[:100])"
   ]
  },
  {
   "cell_type": "markdown",
   "metadata": {},
   "source": [
    "### Balancing the classes\n",
    "Let's do a few last pre-processing steps. If we look at how our twits are labeled, we'll find that 50% of them are neutral. This means that our network will be 50% accurate just by guessing 0 every single time. To help our network learn appropriately, we'll want to balance our classes.\n",
    "That is, make sure each of our different sentiment scores show up roughly as frequently in the data.\n",
    "\n",
    "What we can do here is go through each of our examples and randomly drop twits with neutral sentiment. What should be the probability we drop these twits if we want to get around 20% neutral twits starting at 50% neutral? We should also take this opportunity to remove messages with length 0."
   ]
  },
  {
   "cell_type": "code",
   "execution_count": 11,
   "metadata": {},
   "outputs": [],
   "source": [
    "balanced = {'messages': [], 'sentiments':[]}\n",
    "\n",
    "n_neutral = sum(1 for each in sentiments if each == 2)\n",
    "N_examples = len(sentiments)\n",
    "keep_prob = (N_examples - n_neutral)/4/n_neutral\n",
    "\n",
    "for idx, sentiment in enumerate(sentiments):\n",
    "    message = filtered[idx]\n",
    "    if len(message) == 0:\n",
    "        # skip this message because it has length zero\n",
    "        continue\n",
    "    elif sentiment != 2 or random.random() < keep_prob:\n",
    "        balanced['messages'].append(message)\n",
    "        balanced['sentiments'].append(sentiment)\n",
    "        \n"
   ]
  },
  {
   "cell_type": "markdown",
   "metadata": {},
   "source": [
    "If you did it correctly, you should see the following result "
   ]
  },
  {
   "cell_type": "code",
   "execution_count": 12,
   "metadata": {},
   "outputs": [
    {
     "data": {
      "text/plain": [
       "0.19467842905783594"
      ]
     },
     "execution_count": 12,
     "metadata": {},
     "output_type": "execute_result"
    }
   ],
   "source": [
    "n_neutral = sum(1 for each in balanced['sentiments'] if each == 2)\n",
    "N_examples = len(balanced['sentiments'])\n",
    "n_neutral/N_examples"
   ]
  },
  {
   "cell_type": "markdown",
   "metadata": {},
   "source": [
    "Finally let's convert our tokens into integer ids which we can pass to the network."
   ]
  },
  {
   "cell_type": "code",
   "execution_count": 13,
   "metadata": {},
   "outputs": [],
   "source": [
    "token_ids = [[vocab[word] for word in message] for message in balanced['messages']]\n",
    "sentiments = balanced['sentiments']"
   ]
  },
  {
   "cell_type": "markdown",
   "metadata": {},
   "source": [
    "## Neural Network\n",
    "Now we have our vocabulary which means we can transform our tokens into ids, which are then passed to our network. So, let's define the network now!\n",
    "\n",
    "Here is a nice diagram showing the network we'd like to build: \n",
    "\n",
    "#### Embed -> RNN -> Dense -> Softmax\n",
    "### Implement the text classifier\n",
    "Before we build text classifier, if you remember from the other network that you built in  \"Sentiment Analysis with an RNN\"  exercise  - which there, the network called \" SentimentRNN\", here we named it \"TextClassifer\" - consists of three main parts: 1) init function `__init__` 2) forward pass `forward`  3) hidden state `init_hidden`. \n",
    "\n",
    "This network is pretty similar to the network you built expect in the  `forward` pass, we use softmax instead of sigmoid. The reason we are not using sigmoid is that the output of NN is not a binary. In our network, sentiment scores have 5 possible outcomes. We are looking for an outcome with the highest probability thus softmax is a better choice."
   ]
  },
  {
   "cell_type": "code",
   "execution_count": 14,
   "metadata": {},
   "outputs": [
    {
     "data": {
      "text/plain": [
       "device(type='cuda')"
      ]
     },
     "execution_count": 14,
     "metadata": {},
     "output_type": "execute_result"
    }
   ],
   "source": [
    "device = torch.device('cuda' if torch.cuda.is_available() else 'cpu')\n",
    "device"
   ]
  },
  {
   "cell_type": "code",
   "execution_count": 15,
   "metadata": {},
   "outputs": [],
   "source": [
    "class TextClassifier(nn.Module):\n",
    "    def __init__(self, vocab_size, embed_size, lstm_size, output_size, lstm_layers=1, dropout=0.1):\n",
    "        \"\"\"\n",
    "        Initialize the model by setting up the layers.\n",
    "        \n",
    "        Parameters\n",
    "        ----------\n",
    "            vocab_size : The vocabulary size.\n",
    "            embed_size : The embedding layer size.\n",
    "            lstm_size : The LSTM layer size.\n",
    "            output_size : The output size.\n",
    "            lstm_layers : The number of LSTM layers.\n",
    "            dropout : The dropout probability.\n",
    "        \"\"\"\n",
    "        \n",
    "        super().__init__()\n",
    "        self.vocab_size = vocab_size\n",
    "        self.embed_size = embed_size\n",
    "        self.lstm_size = lstm_size\n",
    "        self.output_size = output_size\n",
    "        self.lstm_layers = lstm_layers\n",
    "        self.dropout = dropout\n",
    "        \n",
    "        # TODO Implement\n",
    "\n",
    "        # Setup embedding layer\n",
    "        self.embedding = nn.Embedding(self.vocab_size, self.embed_size)\n",
    "        \n",
    "        # Setup additional layers\n",
    "        self.lstm = nn.LSTM(self.embed_size, self.lstm_size, self.lstm_layers, dropout=self.dropout)\n",
    "        \n",
    "            # Perhaps an additional droupout layer?\n",
    "        self.dropout = nn.Dropout(self.dropout)\n",
    "        \n",
    "            # Linear layer\n",
    "        self.linear = nn.Linear(self.lstm_size, self.output_size)\n",
    "        \n",
    "            # Softmax Layer\n",
    "        self.softmax = nn.LogSoftmax(dim = 1)\n",
    "\n",
    "    def init_hidden(self, batch_size):\n",
    "        \"\"\" \n",
    "        Initializes hidden state\n",
    "        \n",
    "        Parameters\n",
    "        ----------\n",
    "            batch_size : The size of batches.\n",
    "        \n",
    "        Returns\n",
    "        -------\n",
    "            hidden_state\n",
    "            \n",
    "        \"\"\"\n",
    "        \n",
    "        # TODO Implement \n",
    "        \n",
    "        # Create two new tensors with sizes n_layers x batch_size x hidden_dim,\n",
    "        # initialized to zero, for hidden state and cell state of LSTM\n",
    "        weight = next(self.parameters()).data\n",
    "        \n",
    "        hidden_state=(weight.new(self.lstm_layers, batch_size, self.lstm_size).zero_(), \n",
    "                      weight.new(weight.new(self.lstm_layers, batch_size, self.lstm_size).zero_()))\n",
    "        \n",
    "        return hidden_state\n",
    "\n",
    "\n",
    "    def forward(self, nn_input, hidden_state):\n",
    "        \"\"\"\n",
    "        Perform a forward pass of our model on nn_input.\n",
    "        \n",
    "        Parameters\n",
    "        ----------\n",
    "            nn_input : The batch of input to the NN.\n",
    "            hidden_state : The LSTM hidden state.\n",
    "\n",
    "        Returns\n",
    "        -------\n",
    "            logps: log softmax output\n",
    "            hidden_state: The new hidden state.\n",
    "\n",
    "        \"\"\"\n",
    "        \n",
    "        # TODO Implement \n",
    "        embedding_out = self.embedding(nn_input)\n",
    "        \n",
    "        lstm_out, hidden_state = self.lstm(embedding_out, hidden_state)\n",
    "        \n",
    "        lstm_out = lstm_out[-1,:,:]\n",
    "        \n",
    "        final_out = self.linear(lstm_out) \n",
    "       # final_out = self.linear(self.dropout(lstm_out)) Alternative solution\n",
    "        \n",
    "        logps = self.softmax(final_out)\n",
    "        \n",
    "        return logps, hidden_state"
   ]
  },
  {
   "cell_type": "markdown",
   "metadata": {},
   "source": [
    "### View Model"
   ]
  },
  {
   "cell_type": "code",
   "execution_count": 16,
   "metadata": {},
   "outputs": [
    {
     "name": "stdout",
     "output_type": "stream",
     "text": [
      "tensor([[-1.6288, -1.4105, -1.7193, -1.7885, -1.5446],\n",
      "        [-1.6067, -1.4291, -1.7207, -1.8137, -1.5236],\n",
      "        [-1.6152, -1.4189, -1.7299, -1.7988, -1.5308],\n",
      "        [-1.6222, -1.4178, -1.7006, -1.8005, -1.5488]],\n",
      "       grad_fn=<LogSoftmaxBackward>)\n"
     ]
    }
   ],
   "source": [
    "model = TextClassifier(len(vocab), 10, 6, 5, dropout=0.4, lstm_layers=2)\n",
    "model.embedding.weight.data.uniform_(-1, 1)\n",
    "input = torch.randint(0, 1000, (5, 4), dtype=torch.int64)\n",
    "hidden = model.init_hidden(4)\n",
    "\n",
    "logps, _ = model.forward(input, hidden)\n",
    "print(logps)"
   ]
  },
  {
   "cell_type": "markdown",
   "metadata": {},
   "source": [
    "## Training\n",
    "### DataLoaders and Batching\n",
    "Now we should build a generator that we can use to loop through our data. It'll be more efficient if we can pass our sequences in as batches. Our input tensors should look like `(sequence_length, batch_size)`. So if our sequences are 40 tokens long and we pass in 25 sequences, then we'd have an input size of `(40, 25)`.\n",
    "\n",
    "If we set our sequence length to 40, what do we do with messages that are more or less than 40 tokens? For messages with fewer than 40 tokens, we will pad the empty spots with zeros. We should be sure to **left** pad so that the RNN starts from nothing before going through the data. If the message has 20 tokens, then the first 20 spots of our 40 long sequence will be 0. If a message has more than 40 tokens, we'll just keep the first 40 tokens."
   ]
  },
  {
   "cell_type": "code",
   "execution_count": 17,
   "metadata": {},
   "outputs": [],
   "source": [
    "def dataloader(messages, labels, sequence_length=30, batch_size=32, shuffle=False):\n",
    "    \"\"\" \n",
    "    Build a dataloader.\n",
    "    \"\"\"\n",
    "    if shuffle:\n",
    "        indices = list(range(len(messages)))\n",
    "        random.shuffle(indices)\n",
    "        messages = [messages[idx] for idx in indices]\n",
    "        labels = [labels[idx] for idx in indices]\n",
    "\n",
    "    total_sequences = len(messages)\n",
    "\n",
    "    for ii in range(0, total_sequences, batch_size):\n",
    "        batch_messages = messages[ii: ii+batch_size]\n",
    "        \n",
    "        # First initialize a tensor of all zeros\n",
    "        batch = torch.zeros((sequence_length, len(batch_messages)), dtype=torch.int64)\n",
    "        for batch_num, tokens in enumerate(batch_messages):\n",
    "            token_tensor = torch.tensor(tokens)\n",
    "            # Left pad!\n",
    "            start_idx = max(sequence_length - len(token_tensor), 0)\n",
    "            batch[start_idx:, batch_num] = token_tensor[:sequence_length]\n",
    "        \n",
    "        label_tensor = torch.tensor(labels[ii: ii+len(batch_messages)])\n",
    "        \n",
    "        yield batch, label_tensor"
   ]
  },
  {
   "cell_type": "markdown",
   "metadata": {},
   "source": [
    "### Training and  Validation\n",
    "With our data in nice shape, we'll split it into training and validation sets."
   ]
  },
  {
   "cell_type": "code",
   "execution_count": 18,
   "metadata": {},
   "outputs": [],
   "source": [
    "\"\"\"\n",
    "Split data into training and validation datasets. Use an appropriate split size.\n",
    "The features are the `token_ids` and the labels are the `sentiments`.\n",
    "\"\"\"   \n",
    "\n",
    "# TODO Implement \n",
    "split_train = np.int(0.80 * len(token_ids))\n",
    "split_valid = np.int(0.20 * len(token_ids))\n",
    "#split_test = 0.1\n",
    "\n",
    "\n",
    "train_features = token_ids[:split_train]\n",
    "valid_features = token_ids[split_train:split_train+split_valid]\n",
    "train_labels = sentiments[:split_train]\n",
    "valid_labels = sentiments[split_train:split_train+split_valid]"
   ]
  },
  {
   "cell_type": "code",
   "execution_count": 19,
   "metadata": {},
   "outputs": [
    {
     "name": "stderr",
     "output_type": "stream",
     "text": [
      "C:\\Users\\Phil\\.conda\\envs\\ai4t\\lib\\site-packages\\torch\\nn\\modules\\rnn.py:61: UserWarning: dropout option adds dropout after all but last recurrent layer, so non-zero dropout expects num_layers greater than 1, but got dropout=0.2 and num_layers=1\n",
      "  \"num_layers={}\".format(dropout, num_layers))\n"
     ]
    }
   ],
   "source": [
    "text_batch, labels = next(iter(dataloader(train_features, train_labels, sequence_length=20, batch_size=64)))\n",
    "model = TextClassifier(len(vocab)+1, 200, 128, 5, dropout=0.2)\n",
    "hidden = model.init_hidden(64)\n",
    "logps, hidden = model.forward(text_batch, hidden)"
   ]
  },
  {
   "cell_type": "markdown",
   "metadata": {},
   "source": [
    "### Training\n",
    "It's time to train the neural network!"
   ]
  },
  {
   "cell_type": "code",
   "execution_count": 20,
   "metadata": {},
   "outputs": [
    {
     "name": "stdout",
     "output_type": "stream",
     "text": [
      "cuda\n"
     ]
    },
    {
     "data": {
      "text/plain": [
       "TextClassifier(\n",
       "  (embedding): Embedding(98405, 1024)\n",
       "  (lstm): LSTM(1024, 512, num_layers=2, dropout=0.5)\n",
       "  (dropout): Dropout(p=0.5, inplace=False)\n",
       "  (linear): Linear(in_features=512, out_features=5, bias=True)\n",
       "  (softmax): LogSoftmax(dim=1)\n",
       ")"
      ]
     },
     "execution_count": 20,
     "metadata": {},
     "output_type": "execute_result"
    }
   ],
   "source": [
    "device = torch.device(\"cuda\" if torch.cuda.is_available() else \"cpu\")\n",
    "print(device)\n",
    "model = TextClassifier(len(vocab)+1, 1024, 512, 5, lstm_layers=2, dropout=0.5)\n",
    "model.embedding.weight.data.uniform_(-1, 1)\n",
    "model.to(device)"
   ]
  },
  {
   "cell_type": "code",
   "execution_count": 21,
   "metadata": {},
   "outputs": [
    {
     "name": "stdout",
     "output_type": "stream",
     "text": [
      "Starting epoch 1\n",
      "Epoch: 1 - step: 100 - Average validation loss: 0.9409181506621955 - Average loss: 1.0876569747924805 - Accuracy: 0.6363609993811881\n",
      "Epoch: 1 - step: 200 - Average validation loss: 0.8501112658788662 - Average loss: 0.9822010719776153 - Accuracy: 0.6757038985148515\n",
      "Epoch: 1 - step: 300 - Average validation loss: 0.8065461884483253 - Average loss: 0.9240534555912018 - Accuracy: 0.6911741955445545\n",
      "Epoch: 1 - step: 400 - Average validation loss: 0.774548761030235 - Average loss: 0.888416004627943 - Accuracy: 0.705145807549505\n",
      "Epoch: 1 - step: 500 - Average validation loss: 0.7682125007752145 - Average loss: 0.8625085743665695 - Accuracy: 0.7080658261138614\n",
      "Epoch: 1 - step: 600 - Average validation loss: 0.7539890279421712 - Average loss: 0.8441918621460597 - Accuracy: 0.7139590423886139\n",
      "Epoch: 1 - step: 700 - Average validation loss: 0.7479459598365397 - Average loss: 0.8297838901621954 - Accuracy: 0.7125667156559405\n",
      "Epoch: 1 - step: 800 - Average validation loss: 0.7364526236116296 - Average loss: 0.8180084646493196 - Accuracy: 0.7190545714727723\n",
      "Epoch: 1 - step: 900 - Average validation loss: 0.7353876307606697 - Average loss: 0.808115780684683 - Accuracy: 0.7203598777846535\n",
      "Epoch: 1 - step: 1000 - Average validation loss: 0.7317268149097367 - Average loss: 0.8003078660964966 - Accuracy: 0.721945583230198\n",
      "Epoch: 1 - step: 1100 - Average validation loss: 0.7239852475352807 - Average loss: 0.7932306570356542 - Accuracy: 0.7249719600866337\n",
      "Epoch: 1 - step: 1200 - Average validation loss: 0.7238001074678827 - Average loss: 0.7868055667976538 - Accuracy: 0.7231106899752475\n",
      "Epoch: 1 - step: 1300 - Average validation loss: 0.7153475100893786 - Average loss: 0.7813043559056062 - Accuracy: 0.7268912438118812\n",
      "Epoch: 1 - step: 1400 - Average validation loss: 0.7194459942160266 - Average loss: 0.7762993063671249 - Accuracy: 0.7260790532178217\n",
      "Epoch: 1 - step: 1500 - Average validation loss: 0.7115322282113651 - Average loss: 0.7718575356403986 - Accuracy: 0.7300191444925742\n",
      "Epoch: 1 - step: 1600 - Average validation loss: 0.7135236861534638 - Average loss: 0.7677524404227734 - Accuracy: 0.7304107363861386\n",
      "Starting epoch 2\n",
      "Epoch: 2 - step: 100 - Average validation loss: 0.7202637345336451 - Average loss: 0.6598943835496902 - Accuracy: 0.727248994430693\n",
      "Epoch: 2 - step: 200 - Average validation loss: 0.722046206640725 - Average loss: 0.6638724693655967 - Accuracy: 0.7264174659653465\n",
      "Epoch: 2 - step: 300 - Average validation loss: 0.7148069416237349 - Average loss: 0.6655974580844244 - Accuracy: 0.7284866181930693\n",
      "Epoch: 2 - step: 400 - Average validation loss: 0.7196916106461299 - Average loss: 0.6669354405999184 - Accuracy: 0.7270411123143564\n",
      "Epoch: 2 - step: 500 - Average validation loss: 0.7163323566760167 - Average loss: 0.6680945327281952 - Accuracy: 0.7290812577351485\n",
      "Epoch: 2 - step: 600 - Average validation loss: 0.7153855919247807 - Average loss: 0.6702328137556712 - Accuracy: 0.7283947633044554\n",
      "Epoch: 2 - step: 700 - Average validation loss: 0.7134113085299435 - Average loss: 0.67111464543002 - Accuracy: 0.7303188814975248\n",
      "Epoch: 2 - step: 800 - Average validation loss: 0.7158625839960457 - Average loss: 0.6715395491570234 - Accuracy: 0.7287428449876238\n",
      "Epoch: 2 - step: 900 - Average validation loss: 0.7086173746697974 - Average loss: 0.6720174821880128 - Accuracy: 0.7298934483292079\n",
      "Epoch: 2 - step: 1000 - Average validation loss: 0.7087083610862789 - Average loss: 0.6727145902514458 - Accuracy: 0.7315323329207921\n",
      "Epoch: 2 - step: 1100 - Average validation loss: 0.7070818847358817 - Average loss: 0.6726582402532751 - Accuracy: 0.7305654393564357\n",
      "Epoch: 2 - step: 1200 - Average validation loss: 0.7053077071167455 - Average loss: 0.6729081466794014 - Accuracy: 0.7317015392945545\n",
      "Epoch: 2 - step: 1300 - Average validation loss: 0.7055173796592372 - Average loss: 0.6732091546975649 - Accuracy: 0.7307974938118812\n",
      "Epoch: 2 - step: 1400 - Average validation loss: 0.7066363842770604 - Average loss: 0.6732110560366086 - Accuracy: 0.7318514077970297\n",
      "Epoch: 2 - step: 1500 - Average validation loss: 0.7059557744772127 - Average loss: 0.6735139496723811 - Accuracy: 0.7296807317450495\n",
      "Epoch: 2 - step: 1600 - Average validation loss: 0.705852562395653 - Average loss: 0.673220222517848 - Accuracy: 0.7302366955445545\n",
      "Starting epoch 3\n",
      "Epoch: 3 - step: 100 - Average validation loss: 0.7179660178942255 - Average loss: 0.6146836215257645 - Accuracy: 0.7268042233910891\n",
      "Epoch: 3 - step: 200 - Average validation loss: 0.7170193407795217 - Average loss: 0.6201715433597564 - Accuracy: 0.7295985457920792\n",
      "Epoch: 3 - step: 300 - Average validation loss: 0.7158730190136645 - Average loss: 0.6222469961643219 - Accuracy: 0.7303478883044554\n",
      "Epoch: 3 - step: 400 - Average validation loss: 0.722253036085922 - Average loss: 0.6219431298971176 - Accuracy: 0.7291731126237624\n",
      "Epoch: 3 - step: 500 - Average validation loss: 0.7267916777198857 - Average loss: 0.623873046875 - Accuracy: 0.7249332843440595\n",
      "Epoch: 3 - step: 600 - Average validation loss: 0.7205958658515816 - Average loss: 0.6260688813527425 - Accuracy: 0.7273650216584159\n",
      "Epoch: 3 - step: 700 - Average validation loss: 0.7205267924778532 - Average loss: 0.6275783733810697 - Accuracy: 0.7279306543935643\n",
      "Epoch: 3 - step: 800 - Average validation loss: 0.7172856147926633 - Average loss: 0.6291609302908182 - Accuracy: 0.7304735844678217\n",
      "Epoch: 3 - step: 900 - Average validation loss: 0.7214950438920814 - Average loss: 0.6305783498287201 - Accuracy: 0.7288443688118812\n",
      "Epoch: 3 - step: 1000 - Average validation loss: 0.7231380864977837 - Average loss: 0.6326011279821396 - Accuracy: 0.7293519879331684\n",
      "Epoch: 3 - step: 1100 - Average validation loss: 0.7162353414857742 - Average loss: 0.6335165939547799 - Accuracy: 0.7310537206064357\n",
      "Epoch: 3 - step: 1200 - Average validation loss: 0.7182824703873975 - Average loss: 0.6348977770407994 - Accuracy: 0.7275777382425742\n",
      "Epoch: 3 - step: 1300 - Average validation loss: 0.7129025596498263 - Average loss: 0.636317754983902 - Accuracy: 0.7312567682549505\n",
      "Epoch: 3 - step: 1400 - Average validation loss: 0.7158686612354647 - Average loss: 0.6373186456731388 - Accuracy: 0.7306234529702971\n",
      "Epoch: 3 - step: 1500 - Average validation loss: 0.7107534108333068 - Average loss: 0.6380803575118382 - Accuracy: 0.7318514077970297\n",
      "Epoch: 3 - step: 1600 - Average validation loss: 0.711314814368097 - Average loss: 0.6388537849113345 - Accuracy: 0.7316870358910891\n",
      "Starting epoch 4\n",
      "Epoch: 4 - step: 100 - Average validation loss: 0.7393342777348981 - Average loss: 0.5878072819113731 - Accuracy: 0.7295211943069307\n",
      "Epoch: 4 - step: 200 - Average validation loss: 0.7341485595939183 - Average loss: 0.5924084462225437 - Accuracy: 0.7279644956683168\n",
      "Epoch: 4 - step: 300 - Average validation loss: 0.7375901464631062 - Average loss: 0.5959479105472565 - Accuracy: 0.7236908261138614\n",
      "Epoch: 4 - step: 400 - Average validation loss: 0.7351994698147962 - Average loss: 0.5984798839688301 - Accuracy: 0.728447942450495\n",
      "Epoch: 4 - step: 500 - Average validation loss: 0.7344824896000399 - Average loss: 0.5996940413713455 - Accuracy: 0.7266543548886139\n",
      "Epoch: 4 - step: 600 - Average validation loss: 0.7317599584117974 - Average loss: 0.601359350879987 - Accuracy: 0.7270652846534653\n",
      "Epoch: 4 - step: 700 - Average validation loss: 0.7345217361603633 - Average loss: 0.6045895537308285 - Accuracy: 0.7243821550123762\n",
      "Epoch: 4 - step: 800 - Average validation loss: 0.7322016314852355 - Average loss: 0.6056654389947653 - Accuracy: 0.7273215114480198\n",
      "Epoch: 4 - step: 900 - Average validation loss: 0.7288216976541104 - Average loss: 0.6074322236908807 - Accuracy: 0.7264561417079208\n",
      "Epoch: 4 - step: 1000 - Average validation loss: 0.7280895852363936 - Average loss: 0.6089277499318123 - Accuracy: 0.7292504641089109\n",
      "Epoch: 4 - step: 1100 - Average validation loss: 0.7262612539942902 - Average loss: 0.6102899556810205 - Accuracy: 0.7305122602103961\n",
      "Epoch: 4 - step: 1200 - Average validation loss: 0.7259727264247319 - Average loss: 0.6116196001072725 - Accuracy: 0.7278194616336634\n",
      "Epoch: 4 - step: 1300 - Average validation loss: 0.724485430977132 - Average loss: 0.6129197253172214 - Accuracy: 0.7265528310643564\n",
      "Epoch: 4 - step: 1400 - Average validation loss: 0.7237837259279619 - Average loss: 0.6140664724792753 - Accuracy: 0.7280805228960396\n",
      "Epoch: 4 - step: 1500 - Average validation loss: 0.725708654316345 - Average loss: 0.6148208552996317 - Accuracy: 0.7286606590346535\n",
      "Epoch: 4 - step: 1600 - Average validation loss: 0.72748830811222 - Average loss: 0.6153981095552444 - Accuracy: 0.7282787360767327\n",
      "Starting epoch 5\n",
      "Epoch: 5 - step: 100 - Average validation loss: 0.7560027027779287 - Average loss: 0.5736397311091423 - Accuracy: 0.7226079053217822\n",
      "Epoch: 5 - step: 200 - Average validation loss: 0.7558519541479574 - Average loss: 0.5762802375853062 - Accuracy: 0.7230816831683168\n",
      "Epoch: 5 - step: 300 - Average validation loss: 0.7493390846665543 - Average loss: 0.5796842403213183 - Accuracy: 0.7254264000618812\n",
      "Epoch: 5 - step: 400 - Average validation loss: 0.7476987194011707 - Average loss: 0.5823339255899191 - Accuracy: 0.7280370126856436\n",
      "Epoch: 5 - step: 500 - Average validation loss: 0.7449032532254068 - Average loss: 0.5837843479514122 - Accuracy: 0.7274568765470297\n",
      "Epoch: 5 - step: 600 - Average validation loss: 0.7422058914262469 - Average loss: 0.5863684677580993 - Accuracy: 0.7284382735148515\n",
      "Epoch: 5 - step: 700 - Average validation loss: 0.7452481484206597 - Average loss: 0.5878897692901748 - Accuracy: 0.7257938196163366\n",
      "Epoch: 5 - step: 800 - Average validation loss: 0.7431418516553274 - Average loss: 0.5893492343649268 - Accuracy: 0.7266881961633663\n",
      "Epoch: 5 - step: 900 - Average validation loss: 0.7367820345824307 - Average loss: 0.5906829329000579 - Accuracy: 0.7292166228341584\n",
      "Epoch: 5 - step: 1000 - Average validation loss: 0.7423943970167991 - Average loss: 0.5922790584266185 - Accuracy: 0.7274617110148515\n",
      "Epoch: 5 - step: 1100 - Average validation loss: 0.739389695153378 - Average loss: 0.5934648229046301 - Accuracy: 0.7266688582920792\n",
      "Epoch: 5 - step: 1200 - Average validation loss: 0.7341785415416897 - Average loss: 0.5944815849512816 - Accuracy: 0.7259533570544554\n",
      "Epoch: 5 - step: 1300 - Average validation loss: 0.7332122505891441 - Average loss: 0.5960593249018376 - Accuracy: 0.7263207766089109\n",
      "Epoch: 5 - step: 1400 - Average validation loss: 0.7356176876490659 - Average loss: 0.597120268621615 - Accuracy: 0.7269009127475248\n",
      "Epoch: 5 - step: 1500 - Average validation loss: 0.73782978597844 - Average loss: 0.5975570441683133 - Accuracy: 0.7248365949876238\n",
      "Epoch: 5 - step: 1600 - Average validation loss: 0.7342164618986669 - Average loss: 0.5984909195639193 - Accuracy: 0.7253587175123762\n"
     ]
    }
   ],
   "source": [
    "\"\"\"\n",
    "Train your model with dropout. Make sure to clip your gradients.\n",
    "Print the training loss, validation loss, and validation accuracy for every 100 steps.\n",
    "\"\"\"\n",
    "\n",
    "epochs = 5\n",
    "batch_size = 512\n",
    "learning_rate = 0.00281\n",
    "clip = 5\n",
    "print_every = 100\n",
    "criterion = nn.NLLLoss()\n",
    "optimizer = optim.Adam(model.parameters(), lr=learning_rate)\n",
    "model.train()\n",
    "\n",
    "for epoch in range(epochs):\n",
    "    print('Starting epoch {}'.format(epoch + 1))\n",
    "    losses = []\n",
    "    steps = 0\n",
    "    for text_batch, labels in dataloader(\n",
    "            train_features, train_labels, batch_size=batch_size, sequence_length=20, shuffle=True):\n",
    "        steps += 1\n",
    "        #print(f'We are @ step {steps}')\n",
    "        hidden = model.init_hidden(labels.shape[0])\n",
    "        \n",
    "        # Set Device\n",
    "        text_batch, labels = text_batch.to(device), labels.to(device)\n",
    "        for each in hidden:\n",
    "            each.to(device)\n",
    "        \n",
    "        # TODO Implement: Train Model\n",
    "        model.zero_grad()\n",
    "        output, hidden = model(text_batch, hidden)\n",
    "        loss = criterion(output, labels)\n",
    "        loss.backward()\n",
    "        torch.nn.utils.clip_grad_norm_(model.parameters(), clip)\n",
    "        optimizer.step()\n",
    "        losses.append(loss.item())\n",
    "        if steps % print_every == 0:\n",
    "            model.eval()\n",
    "            eval_losses = []\n",
    "            eval_accuracy = []\n",
    "            debug = 0\n",
    "            for eval_batch, eval_labels in dataloader(valid_features, valid_labels, batch_size=batch_size):\n",
    "                #print(f'Debug {debug} - predevice')\n",
    "                eval_batch, eval_labels = eval_batch.to(device), eval_labels.to(device)\n",
    "                #print(f'Debug {debug} - eval_hidden')\n",
    "                eval_hidden = model.init_hidden(eval_labels.shape[0])\n",
    "                #print(f'Debug {debug} - hidden2device')\n",
    "                #eval_hidden = eval_hidden.to(device)\n",
    "                for each in eval_hidden:\n",
    "                    each.to(device)\n",
    "                #print(f'Debug {debug} - output')\n",
    "                eval_output, eval_hidden = model(eval_batch, eval_hidden)\n",
    "                #print(f'Debug {debug} - evaloss')\n",
    "                eval_loss = criterion(eval_output, eval_labels)\n",
    "                #print(f'Debug {debug} - add2eval_losses')\n",
    "                eval_losses.append(eval_loss.item())\n",
    "                probs = torch.exp(eval_output)\n",
    "                top_prob, top_class = probs.topk(1)\n",
    "                acc = top_class == eval_labels.view(*top_class.shape)\n",
    "                eval_accuracy.append(torch.mean(acc.type(torch.FloatTensor)).item())\n",
    "                debug += 1\n",
    "                #if debug % 25 == 0:\n",
    "                    #print(f'Debug {debug} - Batch End')           \n",
    "            # TODO Implement: Print metrics\n",
    "            mean_eval_acc = sum(eval_accuracy)/len(eval_accuracy)\n",
    "\n",
    "            print(f'Epoch: {epoch+1} - step: {steps} - Average validation loss: {np.mean(eval_losses)} - Average loss: {np.mean(losses)} - Accuracy: {mean_eval_acc}')\n",
    "            model.train()"
   ]
  },
  {
   "cell_type": "code",
   "execution_count": 22,
   "metadata": {},
   "outputs": [],
   "source": [
    "torch.save(model.state_dict(), f'dict_modelp6_ai4t_{device}_{batch_size}_{epochs}_{learning_rate}_clip')\n",
    "#model.load_state_dict(torch.load('dict_modelp6_ai4t_{device}_{batch_size}_{epochs}_{learning_rate}'))"
   ]
  },
  {
   "cell_type": "markdown",
   "metadata": {},
   "source": [
    "## Making Predictions\n",
    "### Prediction \n",
    "Okay, now that you have a trained model, try it on some new twits and see if it works appropriately. Remember that for any new text, you'll need to preprocess it first before passing it to the network. Implement the `predict` function to generate the prediction vector from a message."
   ]
  },
  {
   "cell_type": "code",
   "execution_count": 37,
   "metadata": {},
   "outputs": [],
   "source": [
    "def predict(text, model, vocab):\n",
    "    \"\"\" \n",
    "    Make a prediction on a single sentence.\n",
    "\n",
    "    Parameters\n",
    "    ----------\n",
    "        text : The string to make a prediction on.\n",
    "        model : The model to use for making the prediction.\n",
    "        vocab : Dictionary for word to word ids. The key is the word and the value is the word id.\n",
    "\n",
    "    Returns\n",
    "    -------\n",
    "        pred : Prediction vector\n",
    "    \"\"\"    \n",
    "    \n",
    "    # TODO Implement\n",
    "    \n",
    "    tokens = preprocess(text)\n",
    "    \n",
    "    # Filter non-vocab words\n",
    "    tokens = [token for token in tokens if token in vocab]\n",
    "    # Convert words to ids\n",
    "    tokens = [vocab[token] for token in tokens]\n",
    "        \n",
    "    # Adding a batch dimension\n",
    "    text_input = torch.tensor(tokens).unsqueeze(1)\n",
    "    # Get the NN output\n",
    "    hidden = model.init_hidden(text_input.size(1))\n",
    "    logps, _ = model.forward(text_input, hidden)\n",
    "    # Take the exponent of the NN output to get a range of 0 to 1 for each label.\n",
    "    pred = torch.exp(logps)\n",
    "    \n",
    "    return pred.detach().numpy()"
   ]
  },
  {
   "cell_type": "code",
   "execution_count": 38,
   "metadata": {},
   "outputs": [
    {
     "data": {
      "text/plain": [
       "array([[8.8696273e-05, 1.0606583e-02, 3.2974281e-03, 7.3469955e-01,\n",
       "        2.5130773e-01]], dtype=float32)"
      ]
     },
     "execution_count": 38,
     "metadata": {},
     "output_type": "execute_result"
    }
   ],
   "source": [
    "text = \"Google is working on self driving cars, I'm bullish on $goog\"\n",
    "model.eval()\n",
    "model.to('cpu')\n",
    "predict(text, model, vocab)"
   ]
  },
  {
   "cell_type": "code",
   "execution_count": 43,
   "metadata": {},
   "outputs": [
    {
     "name": "stdout",
     "output_type": "stream",
     "text": [
      "[[0.000089 0.010607 0.003297 0.7347   0.251308]]\n"
     ]
    }
   ],
   "source": [
    "prediction = predict(text, model, vocab)\n",
    "np.set_printoptions(suppress=True)\n",
    "print(prediction)"
   ]
  },
  {
   "cell_type": "markdown",
   "metadata": {},
   "source": [
    "### Questions: What is the prediction of the model? What is the uncertainty of the prediction?\n",
    "As described at the beginning of this notebook we try to predict the label of each twit where \"each twit is labeled -2 to 2 in steps of 1, from very negative to very positive respectively\". The prediction result is \"+1\" (array positionen 3), moderate positive, with an accurracy of ~ 73.47%. So we still have an uncertainty of 100% - 73.47% = 26.53%."
   ]
  },
  {
   "cell_type": "markdown",
   "metadata": {},
   "source": [
    "Now we have a trained model and we can make predictions. We can use this model to track the sentiments of various stocks by predicting the sentiments of twits as they are coming in. Now we have a stream of twits. For each of those twits, pull out the stocks mentioned in them and keep track of the sentiments. Remember that in the twits, ticker symbols are encoded with a dollar sign as the first character, all caps, and 2-4 letters, like $AAPL. Ideally, you'd want to track the sentiments of the stocks in your universe and use this as a signal in your larger model(s).\n",
    "\n",
    "## Testing\n",
    "### Load the Data "
   ]
  },
  {
   "cell_type": "code",
   "execution_count": 44,
   "metadata": {},
   "outputs": [],
   "source": [
    "with open(os.path.join('..', '..', 'data', 'project_6_stocktwits', 'test_twits.json'), 'r') as f:\n",
    "    test_data = json.load(f)"
   ]
  },
  {
   "cell_type": "markdown",
   "metadata": {},
   "source": [
    "### Twit Stream"
   ]
  },
  {
   "cell_type": "code",
   "execution_count": 45,
   "metadata": {},
   "outputs": [
    {
     "data": {
      "text/plain": [
       "{'message_body': '$JWN has moved -1.69% on 10-31. Check out the movement and peers at  https://dividendbot.com?s=JWN',\n",
       " 'timestamp': '2018-11-01T00:00:05Z'}"
      ]
     },
     "execution_count": 45,
     "metadata": {},
     "output_type": "execute_result"
    }
   ],
   "source": [
    "def twit_stream():\n",
    "    for twit in test_data['data']:\n",
    "        yield twit\n",
    "\n",
    "next(twit_stream())"
   ]
  },
  {
   "cell_type": "markdown",
   "metadata": {},
   "source": [
    "Using the `prediction` function, let's apply it to a stream of twits."
   ]
  },
  {
   "cell_type": "code",
   "execution_count": 46,
   "metadata": {},
   "outputs": [],
   "source": [
    "def score_twits(stream, model, vocab, universe):\n",
    "    \"\"\" \n",
    "    Given a stream of twits and a universe of tickers, return sentiment scores for tickers in the universe.\n",
    "    \"\"\"\n",
    "    for twit in stream:\n",
    "\n",
    "        # Get the message text\n",
    "        text = twit['message_body']\n",
    "        symbols = re.findall('\\$[A-Z]{2,4}', text)\n",
    "        score = predict(text, model, vocab)\n",
    "\n",
    "        for symbol in symbols:\n",
    "            if symbol in universe:\n",
    "                yield {'symbol': symbol, 'score': score, 'timestamp': twit['timestamp']}"
   ]
  },
  {
   "cell_type": "code",
   "execution_count": 47,
   "metadata": {},
   "outputs": [
    {
     "data": {
      "text/plain": [
       "{'symbol': '$AAPL',\n",
       " 'score': array([[0.19485 , 0.030823, 0.166868, 0.168536, 0.438923]], dtype=float32),\n",
       " 'timestamp': '2018-11-01T00:00:18Z'}"
      ]
     },
     "execution_count": 47,
     "metadata": {},
     "output_type": "execute_result"
    }
   ],
   "source": [
    "universe = {'$BBRY', '$AAPL', '$AMZN', '$BABA', '$YHOO', '$LQMT', '$FB', '$GOOG', '$BBBY', '$JNUG', '$SBUX', '$MU'}\n",
    "score_stream = score_twits(twit_stream(), model, vocab, universe)\n",
    "\n",
    "next(score_stream)"
   ]
  },
  {
   "cell_type": "markdown",
   "metadata": {},
   "source": [
    "That's it. You have successfully built a model for sentiment analysis! "
   ]
  },
  {
   "cell_type": "markdown",
   "metadata": {},
   "source": [
    "## Submission\n",
    "Now that you're done with the project, it's time to submit it. Click the submit button in the bottom right. One of our reviewers will give you feedback on your project with a pass or not passed grade. You can continue to the next section while you wait for feedback."
   ]
  }
 ],
 "metadata": {
  "kernelspec": {
   "display_name": "ai4t",
   "language": "python",
   "name": "ai4t"
  },
  "language_info": {
   "codemirror_mode": {
    "name": "ipython",
    "version": 3
   },
   "file_extension": ".py",
   "mimetype": "text/x-python",
   "name": "python",
   "nbconvert_exporter": "python",
   "pygments_lexer": "ipython3",
   "version": "3.6.12"
  }
 },
 "nbformat": 4,
 "nbformat_minor": 2
}
