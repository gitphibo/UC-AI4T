{
 "cells": [
  {
   "cell_type": "markdown",
   "metadata": {},
   "source": [
    "# Project 6: Analyzing Stock Sentiment from Twits\n",
    "## Instructions\n",
    "Each problem consists of a function to implement and instructions on how to implement the function.  The parts of the function that need to be implemented are marked with a `# TODO` comment.\n",
    "\n",
    "## Packages\n",
    "When you implement the functions, you'll only need to you use the packages you've used in the classroom, like [Pandas](https://pandas.pydata.org/) and [Numpy](http://www.numpy.org/). These packages will be imported for you. We recommend you don't add any import statements, otherwise the grader might not be able to run your code.\n",
    "\n",
    "### Load Packages"
   ]
  },
  {
   "cell_type": "code",
   "execution_count": 1,
   "metadata": {},
   "outputs": [],
   "source": [
    "import json\n",
    "import nltk\n",
    "import os\n",
    "import random\n",
    "import re\n",
    "import torch\n",
    "import numpy as np\n",
    "\n",
    "from torch import nn, optim\n",
    "import torch.nn.functional as F"
   ]
  },
  {
   "cell_type": "markdown",
   "metadata": {},
   "source": [
    "## Introduction\n",
    "When deciding the value of a company, it's important to follow the news. For example, a product recall or natural disaster in a company's product chain. You want to be able to turn this information into a signal. Currently, the best tool for the job is a Neural Network. \n",
    "\n",
    "For this project, you'll use posts from the social media site [StockTwits](https://en.wikipedia.org/wiki/StockTwits). The community on StockTwits is full of investors, traders, and entrepreneurs. Each message posted is called a Twit. This is similar to Twitter's version of a post, called a Tweet. You'll build a model around these twits that generate a sentiment score.\n",
    "\n",
    "We've collected a bunch of twits, then hand labeled the sentiment of each. To capture the degree of sentiment, we'll use a five-point scale: very negative, negative, neutral, positive, very positive. Each twit is labeled -2 to 2 in steps of 1, from very negative to very positive respectively. You'll build a sentiment analysis model that will learn to assign sentiment to twits on its own, using this labeled data.\n",
    "\n",
    "The first thing we should to do, is load the data.\n",
    "\n",
    "## Import Twits \n",
    "### Load Twits Data \n",
    "This JSON file contains a list of objects for each twit in the `'data'` field:\n",
    "\n",
    "```\n",
    "{'data':\n",
    "  {'message_body': 'Neutral twit body text here',\n",
    "   'sentiment': 0},\n",
    "  {'message_body': 'Happy twit body text here',\n",
    "   'sentiment': 1},\n",
    "   ...\n",
    "}\n",
    "```\n",
    "\n",
    "The fields represent the following:\n",
    "\n",
    "* `'message_body'`: The text of the twit.\n",
    "* `'sentiment'`: Sentiment score for the twit, ranges from -2 to 2 in steps of 1, with 0 being neutral.\n",
    "\n",
    "\n",
    "To see what the data look like by printing the first 10 twits from the list. "
   ]
  },
  {
   "cell_type": "code",
   "execution_count": 2,
   "metadata": {},
   "outputs": [
    {
     "name": "stdout",
     "output_type": "stream",
     "text": [
      "[{'message_body': '$FITB great buy at 26.00...ill wait', 'sentiment': 2, 'timestamp': '2018-07-01T00:00:09Z'}, {'message_body': '@StockTwits $MSFT', 'sentiment': 1, 'timestamp': '2018-07-01T00:00:42Z'}, {'message_body': '#STAAnalystAlert for $TDG : Jefferies Maintains with a rating of Hold setting target price at USD 350.00. Our own verdict is Buy  http://www.stocktargetadvisor.com/toprating', 'sentiment': 2, 'timestamp': '2018-07-01T00:01:24Z'}, {'message_body': '$AMD I heard there’s a guy who knows someone who thinks somebody knows something - on StockTwits.', 'sentiment': 1, 'timestamp': '2018-07-01T00:01:47Z'}, {'message_body': '$AMD reveal yourself!', 'sentiment': 0, 'timestamp': '2018-07-01T00:02:13Z'}, {'message_body': '$AAPL Why the drop? I warren Buffet taking out his position?', 'sentiment': 1, 'timestamp': '2018-07-01T00:03:10Z'}, {'message_body': '$BA bears have 1 reason on 06-29 to pay more attention https://dividendbot.com?s=BA', 'sentiment': -2, 'timestamp': '2018-07-01T00:04:09Z'}, {'message_body': '$BAC ok good we&#39;re not dropping in price over the weekend, lol', 'sentiment': 1, 'timestamp': '2018-07-01T00:04:17Z'}, {'message_body': '$AMAT - Daily Chart, we need to get back to above 50.', 'sentiment': 2, 'timestamp': '2018-07-01T00:08:01Z'}, {'message_body': '$GME 3% drop per week after spike... if no news in 3 months, back to 12s... if BO, then bingo... what is the odds?', 'sentiment': -2, 'timestamp': '2018-07-01T00:09:03Z'}]\n"
     ]
    }
   ],
   "source": [
    "with open(os.path.join('..', '..', 'data', 'project_6_stocktwits', 'twits.json'), 'r') as f:\n",
    "    twits = json.load(f)\n",
    "print(twits['data'][:10])"
   ]
  },
  {
   "cell_type": "markdown",
   "metadata": {},
   "source": [
    "### Length of Data\n",
    "Now let's look at the number of twits in dataset. Print the number of twits below."
   ]
  },
  {
   "cell_type": "code",
   "execution_count": 3,
   "metadata": {},
   "outputs": [
    {
     "name": "stdout",
     "output_type": "stream",
     "text": [
      "1548010\n"
     ]
    }
   ],
   "source": [
    "\"\"\"print out the number of twits\"\"\"\n",
    "\n",
    "# TODO Implement \n",
    "print(len(twits['data']))\n"
   ]
  },
  {
   "cell_type": "markdown",
   "metadata": {},
   "source": [
    "### Split Message Body and Sentiment Score"
   ]
  },
  {
   "cell_type": "code",
   "execution_count": 4,
   "metadata": {},
   "outputs": [],
   "source": [
    "messages = [twit['message_body'] for twit in twits['data']]\n",
    "# Since the sentiment scores are discrete, we'll scale the sentiments to 0 to 4 for use in our network\n",
    "sentiments = [twit['sentiment'] + 2 for twit in twits['data']]"
   ]
  },
  {
   "cell_type": "markdown",
   "metadata": {},
   "source": [
    "## Preprocessing the Data\n",
    "With our data in hand we need to preprocess our text. These twits are collected by filtering on ticker symbols where these are denoted with a leader $ symbol in the twit itself. For example,\n",
    "\n",
    "`{'message_body': 'RT @google Our annual look at the year in Google blogging (and beyond) http://t.co/sptHOAh8 $GOOG',\n",
    " 'sentiment': 0}`\n",
    "\n",
    "The ticker symbols don't provide information on the sentiment, and they are in every twit, so we should remove them. This twit also has the `@google` username, again not providing sentiment information, so we should also remove it. We also see a URL `http://t.co/sptHOAh8`. Let's remove these too.\n",
    "\n",
    "The easiest way to remove specific words or phrases is with regex using the `re` module. You can sub out specific patterns with a space:\n",
    "\n",
    "```python\n",
    "re.sub(pattern, ' ', text)\n",
    "```\n",
    "This will substitute a space with anywhere the pattern matches in the text. Later when we tokenize the text, we'll split appropriately on those spaces."
   ]
  },
  {
   "cell_type": "markdown",
   "metadata": {},
   "source": [
    "### Pre-Processing"
   ]
  },
  {
   "cell_type": "code",
   "execution_count": 5,
   "metadata": {},
   "outputs": [
    {
     "name": "stderr",
     "output_type": "stream",
     "text": [
      "[nltk_data] Downloading package wordnet to\n",
      "[nltk_data]     C:\\Users\\Phil\\AppData\\Roaming\\nltk_data...\n",
      "[nltk_data]   Package wordnet is already up-to-date!\n"
     ]
    }
   ],
   "source": [
    "nltk.download('wordnet')\n",
    "\n",
    "\n",
    "def preprocess(message):\n",
    "    \"\"\"\n",
    "    This function takes a string as input, then performs these operations: \n",
    "        - lowercase\n",
    "        - remove URLs\n",
    "        - remove ticker symbols \n",
    "        - removes punctuation\n",
    "        - tokenize by splitting the string on whitespace \n",
    "        - removes any single character tokens\n",
    "    \n",
    "    Parameters\n",
    "    ----------\n",
    "        message : The text message to be preprocessed.\n",
    "        \n",
    "    Returns\n",
    "    -------\n",
    "        tokens: The preprocessed text into tokens.\n",
    "    \"\"\" \n",
    "     #TODO: Implement \n",
    "    \n",
    "    # Lowercase the twit message\n",
    "    text = message.lower()\n",
    "    \n",
    "    # Replace URLs with a space in the message\n",
    "    #re.sub(pattern, ' ', text)\n",
    "    text = re.sub(r'http\\S+', ' ', text)\n",
    "    \n",
    "    # Replace ticker symbols with a space. The ticker symbols are \n",
    "    #any stock symbol that starts with $.\n",
    "    text = re.sub(r\"[$]\\w+\", \" \", text)\n",
    "    \n",
    "    # Replace StockTwits usernames with a space. The usernames are any word that starts with @.\n",
    "    text = re.sub(r\"[@]\\w+\", \" \", text)\n",
    "    \n",
    "    # Replace everything not a letter with a space\n",
    "    text = re.sub('[^a-zA-Z]', \" \", text)\n",
    "    \n",
    "    # Tokenize by splitting the string on whitespace into a list of words\n",
    "    tokens = re.sub(r\"\\b[a-zA-Z]\\b\", \"\", text)\n",
    "    tokens = tokens.split()\n",
    "\n",
    "    # Lemmatize words using the WordNetLemmatizer. You can ignore any word that is not longer than one character.\n",
    "    \n",
    "    wnl = nltk.stem.WordNetLemmatizer()\n",
    "    token = [wnl.lemmatize(w) for w in tokens]\n",
    "    \n",
    "    return token"
   ]
  },
  {
   "cell_type": "markdown",
   "metadata": {},
   "source": [
    "### Preprocess All the Twits \n",
    "Now we can preprocess each of the twits in our dataset. Apply the function `preprocess` to all the twit messages."
   ]
  },
  {
   "cell_type": "code",
   "execution_count": 6,
   "metadata": {
    "scrolled": true
   },
   "outputs": [],
   "source": [
    "# TODO Implement\n",
    "\n",
    "tokenized =[preprocess(message) for message in messages]\n",
    "#tokenized[:3]"
   ]
  },
  {
   "cell_type": "markdown",
   "metadata": {},
   "source": [
    "### Bag of Words\n",
    "Now with all of our messages tokenized, we want to create a vocabulary and count up how often each word appears in our entire corpus. Use the [`Counter`](https://docs.python.org/3.1/library/collections.html#collections.Counter) function to count up all the tokens."
   ]
  },
  {
   "cell_type": "code",
   "execution_count": 7,
   "metadata": {},
   "outputs": [],
   "source": [
    "from collections import Counter\n",
    "\n",
    "\n",
    "\"\"\"\n",
    "Create a vocabulary by using Bag of words\n",
    "\"\"\"\n",
    "\n",
    "# TODO: Implement\n",
    "#vocab = [token for tokens in tokenized for token in tokens]\n",
    "#bow = Counter(vocab)\n",
    "\n",
    "tokens = []\n",
    "for token in tokenized:\n",
    "    for word in token:\n",
    "        tokens.append(word)\n",
    "\n",
    "bow = Counter(tokens)"
   ]
  },
  {
   "cell_type": "markdown",
   "metadata": {},
   "source": [
    "### Frequency of Words Appearing in Message\n",
    "With our vocabulary, now we'll remove some of the most common words such as 'the', 'and', 'it', etc. These words don't contribute to identifying sentiment and are really common, resulting in a lot of noise in our input. If we can filter these out, then our network should have an easier time learning.\n",
    "\n",
    "We also want to remove really rare words that show up in a only a few twits. Here you'll want to divide the count of each word by the number of messages. Then remove words that only appear in some small fraction of the messages."
   ]
  },
  {
   "cell_type": "code",
   "execution_count": 8,
   "metadata": {},
   "outputs": [
    {
     "name": "stdout",
     "output_type": "stream",
     "text": [
      "['the', 'to', 'is', 'for', 'on', 'of', 'and', 'in', 'this', 'it']\n"
     ]
    },
    {
     "data": {
      "text/plain": [
       "98404"
      ]
     },
     "execution_count": 8,
     "metadata": {},
     "output_type": "execute_result"
    }
   ],
   "source": [
    "\"\"\"\n",
    "Set the following variables:\n",
    "    freqs\n",
    "    low_cutoff\n",
    "    high_cutoff\n",
    "    K_most_common\n",
    "\"\"\"\n",
    "\n",
    "# TODO Implement \n",
    "\n",
    "# Dictionart that contains the Frequency of words appearing in messages.\n",
    "# The key is the token and the value is the frequency of that word in the corpus.\n",
    "freqs = {word: bow[word]/len(bow) for id, word in enumerate(bow)}\n",
    "\n",
    "# Float that is the frequency cutoff. Drop words with a frequency that is lower or equal to this number.\n",
    "low_cutoff = 0.000007\n",
    "\n",
    "# Integer that is the cut off for most common words. Drop words that are the `high_cutoff` most common words.\n",
    "high_cutoff = 10\n",
    "\n",
    "# The k most common words in the corpus. Use `high_cutoff` as the k.\n",
    "K_most_common = [x[0] for x in bow.most_common(high_cutoff)]\n",
    "\n",
    "\n",
    "filtered_words = [word for word in freqs if (freqs[word] > low_cutoff and word not in K_most_common)]\n",
    "print(K_most_common)\n",
    "len(filtered_words) "
   ]
  },
  {
   "cell_type": "markdown",
   "metadata": {},
   "source": [
    "### Updating Vocabulary by Removing Filtered Words\n",
    "Let's creat three variables that will help with our vocabulary."
   ]
  },
  {
   "cell_type": "code",
   "execution_count": 9,
   "metadata": {},
   "outputs": [
    {
     "data": {
      "application/vnd.jupyter.widget-view+json": {
       "model_id": "24fa69fd7ccf4a9b9b1fde649cac6771",
       "version_major": 2,
       "version_minor": 0
      },
      "text/plain": [
       "HBox(children=(IntProgress(value=0, max=1548010), HTML(value='')))"
      ]
     },
     "metadata": {},
     "output_type": "display_data"
    },
    {
     "name": "stdout",
     "output_type": "stream",
     "text": [
      "\n"
     ]
    }
   ],
   "source": [
    "\"\"\"\n",
    "Set the following variables:\n",
    "    vocab\n",
    "    id2vocab\n",
    "    filtered\n",
    "\"\"\"\n",
    "\n",
    "#TODO Implement\n",
    "from tqdm import tqdm_notebook as tqdm\n",
    "# A dictionary for the `filtered_words`. The key is the word and value is an id that represents the word.\n",
    "vocab = {word: idx for idx, word in enumerate(filtered_words)}\n",
    "# Reverse of the `vocab` dictionary. The key is word id and value is the word. \n",
    "id2vocab = dict(map(reversed, vocab.items()))\n",
    "# tokenized with the words not in `filtered_words` removed.\n",
    "filtered = [[word for word in message if word in vocab] for message in tqdm(tokenized)]\n"
   ]
  },
  {
   "cell_type": "code",
   "execution_count": 10,
   "metadata": {},
   "outputs": [
    {
     "name": "stdout",
     "output_type": "stream",
     "text": [
      "[['great', 'buy', 'at', 'ill', 'wait'], [], ['staanalystalert', 'jefferies', 'maintains', 'with', 'rating', 'hold', 'setting', 'target', 'price', 'at', 'usd', 'our', 'own', 'verdict', 'buy'], ['heard', 'there', 'guy', 'who', 'know', 'someone', 'who', 'think', 'somebody', 'know', 'something', 'stocktwits'], ['reveal', 'yourself'], ['why', 'drop', 'warren', 'buffet', 'taking', 'out', 'his', 'position'], ['bear', 'have', 'reason', 'pay', 'more', 'attention'], ['ok', 'good', 'we', 're', 'not', 'dropping', 'price', 'over', 'weekend', 'lol'], ['daily', 'chart', 'we', 'need', 'get', 'back', 'above'], ['drop', 'per', 'week', 'after', 'spike', 'if', 'no', 'news', 'month', 'back', 'if', 'bo', 'then', 'bingo', 'what', 'odds'], ['strong', 'buy'], ['short', 'ratio', 'at', 'short', 'float', 'via'], ['price', 'squeezing', 'perfect', 'place', 'an', 'option', 'straddle', 'near', 'supporting', 'trend'], ['start', 'new', 'monday', 'expect', 'strong', 'buy', 'volume', 'across', 'key', 'company', 'various', 'sector'], ['breakout', 'strategy', 'current', 'portfolio'], ['bull', 'have', 'reason', 'pay', 'more', 'attention'], ['catalyst', 'continuing', 'new', 'uptrend', 'pill', 'pack', 'buy', 'out', 'amazon', 'prime', 'day', 'earnings', 'test', 'break', 'soon'], ['ha', 'moved', 'check', 'out', 'movement', 'peer', 'at'], ['staanalystalert', 'mkm', 'partner', 'set', 'price', 'target', 'with', 'rating', 'buy', 'setting', 'target', 'price', 'at', 'usd', 'our', 'own', 'verdict', 'buy'], ['think', 'too', 'early', 'tell', 'what', 'going', 'happen', 'monday', 'even', 'with', 'current', 'news', 'about', 'raisinf', 'output', 'there', 'still', 'so', 'many'], ['ha', 'current', 'ratio', 'so', 'financially', 'healthy', 'ha', 'no', 'problem', 'meeting', 'obligation'], ['bullish', 'stock', 'watch', 'setup', 'timeframes', 'blog', 'by'], ['just', 'short'], ['high', 'alert', 'next', 'week', 'gt', 'breakdown'], ['current', 'ratio', 'much', 'better', 'than', 'industry', 'average'], ['miss', 'these', 'day'], ['if', 'break', 'confirms', 'next', 'week', 'you', 'will', 'see', 'violent', 'move', 'downward', 'my', 'buy', 'price'], ['bear', 'have', 'reason', 'pay', 'more', 'attention'], ['breakout', 'base', 'gap', 'day', 'ma', 'gap', 'gap', 'gap', 'day', 'ma'], ['cabot', 'weekly', 'video', 'quot', 'resilient', 'growth', 'stock', 'watch', 'quot'], ['when', 'wa', 'kid', 'my', 'froend', 'told', 'me', 'moon', 'wa', 'made', 'out', 'cheese'], ['short', 'volume', 'percent', 'wa', 'day', 'rank', 'wa', 'th', 'percentile'], ['thank', 'you', 'don', 'feel', 'need', 'tell', 'or', 'do', 'well', 'me', 'they', 'already', 'have'], ['during', 'youtube', 'interview', 'mitch', 'couldn', 'remember', 'single', 'movie', 'he', 'watched', 'all', 'year', 'except', 'star', 'war', 'black', 'panther', 'clothes'], ['staanalystalert', 'jefferies', 'downgrade', 'with', 'rating', 'hold', 'setting', 'target', 'price', 'at', 'usd', 'our', 'own', 'verdict', 'hold'], ['short', 'sale', 'volume', 'not', 'short', 'interest', 'via'], ['ha', 'better', 'return', 'equity', 'than', 'industry', 'average'], ['although', 'market', 'up', 'doing', 'even', 'better', 'ha', 'advanced', 'a', 'more', 'info', 'peer', 'at'], ['july', 'will', 'be', 'most', 'bullish', 'day', 'year', 'stock'], ['option', 'volume', 'wa', 'normal', 'friday', 'with', 'contract', 'call', 'volume', 'wa', 'put', 'volume', 'wa'], ['third', 'design', 'win', 'timing', 'match', 'probably', 'arm'], ['alcohol', 'stock', 'tobacco', 'stock', 'firearm', 'stock', 'buy'], ['president', 'trump', 'tweet', 'just', 'spoke', 'king', 'salman', 'saudi', 'arabia', 'explained', 'him', 'that', 'because', 'turmoil', 'amp'], ['today', 'insight'], ['intc', 'mama', 'said', 'get', 'ice', 'cream', 'if', 'finish', 'my', 'due', 'dil'], ['just', 'noticed', 'they', 'have', 'last', 'jedi', 'stream', 'love', 'stock'], ['here', 'you', 'go', 'will', 'just', 'leave', 'here'], ['good', 'view', 'daily', 'still', 'look', 'good', 'ema', 'held', 'above', 'ema', 'stochastics', 'turning', 'healthy', 'a', 'spy', 'qqq', 'opposite'], ['with', 'forward', 'pe', 'valuation', 'can', 'be', 'described', 'a', 'cheap'], ['saber', 'capital', 'presentation', 'common', 'denominator', 'tencent', 'facebook', 'google'], ['how', 'expect', 'earnings'], ['one', 'better', 'performing', 'stock', 'crude', 'petroleum', 'natural', 'gas', 'industry'], ['pu', 'simply', 'havent', 'lost', 'any', 'brown', 'guy', 'run', 'tech', 'company', 'mf', 'are', 'well', 'educated', 'know', 'their', 'shit', 'more', 'more', 'every', 'year'], ['former', 'president', 'global', 'manufacturing', 'at', 'pfizer', 'an', 'independent', 'director', 'at', 'nat', 'ricciardi'], ['may', 'be', 'safest', 'stock', 'own'], ['special', 'limited', 'offer', 'june', 'th', 'june', 'th', 'tradenet', 'offering', 'discount', 'intro', 'program'], ['below', 'buy', 'put', 'financials'], ['great', 'summary', 'jeff', 'gundlach', 'sohn', 'presentation', 'long', 'thesis', 'energy', 'stock'], ['low', 'peg', 'ratio', 'which', 'compensates', 'pe', 'growth', 'indicates', 'rather', 'cheap', 'valuation'], ['great', 'summary', 'jeff', 'gundlach', 'sohn', 'pres', 'long', 'thesis', 'energy', 'equity'], ['coming'], ['seems', 'support', 'next', 'if', 'under', 'likely'], ['ha', 'moved', 'check', 'out', 'movement', 'peer', 'at'], ['bullshit', 'worthless', 'mean', 'fucking', 'nothing', 'macau', 'not', 'fucking', 'usa'], ['take', 'let', 'me', 'know', 'where', 'are', 'we', 'right', 'now', 'lol'], ['chart', 'look', 'so', 'ugly', 'without', 'clear', 'support', 'level', 'short', 'term', 'bearish', 'll', 'buy', 'when', 'at'], ['great', 'summary', 'jeff', 'gundlach', 'sohn', 'presentation', 'long', 'thesis', 'energy', 'stock'], ['previously', 'there', 'wa', 'mo', 'run', 'up', 'followed', 'by', 'drop', 'we', 'are', 'at', 'end', 'month', 'another', 'runup', 'have', 'dropped', 'about'], ['smart', 'money', 'betting', 'call', 'deal', 'update'], ['although', 'technical', 'rating', 'bad', 'doe', 'present', 'nice', 'setup', 'opportunity'], ['will', 'completely', 'scale', 'out', 'time', 'gobble', 'up', 'my', 'next', 'long', 'play', 'aka', 'my', 'favorite', 'gt'], ['short', 'sale', 'volume', 'not', 'short', 'interest', 'via'], ['them', 'are', 'iddy', 'bitty', 'kiddy', 'hand'], ['short', 'interest', 'ratio', 'at', 'short', 'float', 'via'], ['then', 'awesome', 'now', 'be', 'concerned', 'if', 'not', 'over', 'by', 'eow', 'might', 'get', 'under', 'next', 'wk', 'or', 'soon'], ['throwback'], ['staanalystalert', 'u', 'capital', 'advisor', 'upgrade', 'with', 'rating', 'hold', 'our', 'own', 'verdict', 'buy'], ['lol', 'all', 'these', 'shorties', 'are', 'dreaming', 'great', 'depression', 'or', 'somethin', 'loll'], ['just', 'updated', 'hormel', 'food', 'dividend', 'king', 'stock', 'analysis', 'dividend', 'king', 'consumer', 'defensive'], ['today', 'insight'], ['just', 'updated', 'intel', 'valuation', 'profitability', 'dividend', 'safety', 'score', 'analysis', 'dividend', 'technology'], ['today', 'insight'], ['long', 'short', 'term', 'trend', 'are', 'both', 'positive', 'looking', 'good'], ['they', 'so', 'mad', 'at', 'me', 'still'], ['back', 'by', 'july'], ['report', 'block', 'person', 'spam'], ['should', 'open', 'at', 'monday'], ['my', 'projection', 'if', 'thats', 'true', 'under', 'next', 'week', 'thats', 'why', 'prefer', 'buy', 'from', 'support', 'level'], ['what', 'turd'], ['percent', 'short', 'volume', 'wa'], ['wal', 'mart', 'dividend', 'aristocrat', 'dividend', 'aristocrat', 'consumer', 'defensive', 'valueinvesting', 'dvb', 'aaamp'], ['looking', 'marriage', 'have', 'my', 'bank', 'account', 'with', 'stock', 'dm'], ['short', 'ratio', 'at', 'short', 'float', 'via'], ['that', 'bear', 'that', 'won', 'stop', 'posting', 'holding', 'big', 'short', 'position', 'over', 'weekend', 'calm', 'down', 'good', 'luck', 'lol'], ['chase', 'continues', 'hopefully', 'they', 'catch', 'him', 'before', 'lisa', 'announces', 'rd', 'win'], ['price', 'earnings', 'ratio', 'which', 'indicates', 'rather', 'cheap', 'valuation'], ['permamently', 'turned', 'me', 'off', 'option', 'trading', 'maybe', 'stock', 'altogether', 'manipulation', 'by', 'very', 'rich', 'make', 'me', 'very', 'poor', 'fuk'], ['down', 'almost', 'pct', 'from', 'week', 'high', 'about', 'time', 'buyback', 'got', 'more', 'share', 'my', 'account', 'though', 'from', 'drip'], ['option', 'volume', 'wa', 'normal', 'friday', 'with', 'contract', 'call', 'volume', 'wa', 'put', 'volume', 'wa'], []]"
     ]
    },
    {
     "name": "stdout",
     "output_type": "stream",
     "text": [
      "\n"
     ]
    }
   ],
   "source": [
    "print(filtered[:100])"
   ]
  },
  {
   "cell_type": "markdown",
   "metadata": {},
   "source": [
    "### Balancing the classes\n",
    "Let's do a few last pre-processing steps. If we look at how our twits are labeled, we'll find that 50% of them are neutral. This means that our network will be 50% accurate just by guessing 0 every single time. To help our network learn appropriately, we'll want to balance our classes.\n",
    "That is, make sure each of our different sentiment scores show up roughly as frequently in the data.\n",
    "\n",
    "What we can do here is go through each of our examples and randomly drop twits with neutral sentiment. What should be the probability we drop these twits if we want to get around 20% neutral twits starting at 50% neutral? We should also take this opportunity to remove messages with length 0."
   ]
  },
  {
   "cell_type": "code",
   "execution_count": 11,
   "metadata": {},
   "outputs": [],
   "source": [
    "balanced = {'messages': [], 'sentiments':[]}\n",
    "\n",
    "n_neutral = sum(1 for each in sentiments if each == 2)\n",
    "N_examples = len(sentiments)\n",
    "keep_prob = (N_examples - n_neutral)/4/n_neutral\n",
    "\n",
    "for idx, sentiment in enumerate(sentiments):\n",
    "    message = filtered[idx]\n",
    "    if len(message) == 0:\n",
    "        # skip this message because it has length zero\n",
    "        continue\n",
    "    elif sentiment != 2 or random.random() < keep_prob:\n",
    "        balanced['messages'].append(message)\n",
    "        balanced['sentiments'].append(sentiment)\n",
    "        \n"
   ]
  },
  {
   "cell_type": "markdown",
   "metadata": {},
   "source": [
    "If you did it correctly, you should see the following result "
   ]
  },
  {
   "cell_type": "code",
   "execution_count": 12,
   "metadata": {},
   "outputs": [
    {
     "data": {
      "text/plain": [
       "0.19541847097738768"
      ]
     },
     "execution_count": 12,
     "metadata": {},
     "output_type": "execute_result"
    }
   ],
   "source": [
    "n_neutral = sum(1 for each in balanced['sentiments'] if each == 2)\n",
    "N_examples = len(balanced['sentiments'])\n",
    "n_neutral/N_examples"
   ]
  },
  {
   "cell_type": "markdown",
   "metadata": {},
   "source": [
    "Finally let's convert our tokens into integer ids which we can pass to the network."
   ]
  },
  {
   "cell_type": "code",
   "execution_count": 13,
   "metadata": {},
   "outputs": [],
   "source": [
    "token_ids = [[vocab[word] for word in message] for message in balanced['messages']]\n",
    "sentiments = balanced['sentiments']"
   ]
  },
  {
   "cell_type": "markdown",
   "metadata": {},
   "source": [
    "## Neural Network\n",
    "Now we have our vocabulary which means we can transform our tokens into ids, which are then passed to our network. So, let's define the network now!\n",
    "\n",
    "Here is a nice diagram showing the network we'd like to build: \n",
    "\n",
    "#### Embed -> RNN -> Dense -> Softmax\n",
    "### Implement the text classifier\n",
    "Before we build text classifier, if you remember from the other network that you built in  \"Sentiment Analysis with an RNN\"  exercise  - which there, the network called \" SentimentRNN\", here we named it \"TextClassifer\" - consists of three main parts: 1) init function `__init__` 2) forward pass `forward`  3) hidden state `init_hidden`. \n",
    "\n",
    "This network is pretty similar to the network you built expect in the  `forward` pass, we use softmax instead of sigmoid. The reason we are not using sigmoid is that the output of NN is not a binary. In our network, sentiment scores have 5 possible outcomes. We are looking for an outcome with the highest probability thus softmax is a better choice."
   ]
  },
  {
   "cell_type": "code",
   "execution_count": 14,
   "metadata": {},
   "outputs": [
    {
     "data": {
      "text/plain": [
       "device(type='cuda')"
      ]
     },
     "execution_count": 14,
     "metadata": {},
     "output_type": "execute_result"
    }
   ],
   "source": [
    "device = torch.device('cuda' if torch.cuda.is_available() else 'cpu')\n",
    "device"
   ]
  },
  {
   "cell_type": "code",
   "execution_count": 36,
   "metadata": {},
   "outputs": [],
   "source": [
    "class TextClassifier(nn.Module):\n",
    "    def __init__(self, vocab_size, embed_size, lstm_size, output_size, lstm_layers=1, dropout=0.1):\n",
    "        \"\"\"\n",
    "        Initialize the model by setting up the layers.\n",
    "        \n",
    "        Parameters\n",
    "        ----------\n",
    "            vocab_size : The vocabulary size.\n",
    "            embed_size : The embedding layer size.\n",
    "            lstm_size : The LSTM layer size.\n",
    "            output_size : The output size.\n",
    "            lstm_layers : The number of LSTM layers.\n",
    "            dropout : The dropout probability.\n",
    "        \"\"\"\n",
    "        \n",
    "        super().__init__()\n",
    "        self.vocab_size = vocab_size\n",
    "        self.embed_size = embed_size\n",
    "        self.lstm_size = lstm_size\n",
    "        self.output_size = output_size\n",
    "        self.lstm_layers = lstm_layers\n",
    "        self.dropout = dropout\n",
    "        \n",
    "        # TODO Implement\n",
    "\n",
    "        # Setup embedding layer\n",
    "        self.embedding = nn.Embedding(self.vocab_size, self.embed_size)\n",
    "        \n",
    "        # Setup additional layers\n",
    "        self.lstm = nn.LSTM(self.embed_size, self.lstm_size, self.lstm_layers, dropout=self.dropout)\n",
    "        \n",
    "            # Perhaps an additional droupout layer?\n",
    "        self.dropout = nn.Dropout(self.dropout)\n",
    "        \n",
    "            # Linear layer\n",
    "        self.linear = nn.Linear(self.lstm_size, self.output_size)\n",
    "        \n",
    "            # Softmax Layer\n",
    "        self.softmax = nn.LogSoftmax(dim = 1)\n",
    "\n",
    "    def init_hidden(self, batch_size):\n",
    "        \"\"\" \n",
    "        Initializes hidden state\n",
    "        \n",
    "        Parameters\n",
    "        ----------\n",
    "            batch_size : The size of batches.\n",
    "        \n",
    "        Returns\n",
    "        -------\n",
    "            hidden_state\n",
    "            \n",
    "        \"\"\"\n",
    "        \n",
    "        # TODO Implement \n",
    "        \n",
    "        # Create two new tensors with sizes n_layers x batch_size x hidden_dim,\n",
    "        # initialized to zero, for hidden state and cell state of LSTM\n",
    "        weight = next(self.parameters()).data\n",
    "        \n",
    "        hidden_state=(weight.new(self.lstm_layers, batch_size, self.lstm_size).zero_(), \n",
    "                      weight.new(weight.new(self.lstm_layers, batch_size, self.lstm_size).zero_()))\n",
    "        \n",
    "        return hidden_state\n",
    "\n",
    "\n",
    "    def forward(self, nn_input, hidden_state):\n",
    "        \"\"\"\n",
    "        Perform a forward pass of our model on nn_input.\n",
    "        \n",
    "        Parameters\n",
    "        ----------\n",
    "            nn_input : The batch of input to the NN.\n",
    "            hidden_state : The LSTM hidden state.\n",
    "\n",
    "        Returns\n",
    "        -------\n",
    "            logps: log softmax output\n",
    "            hidden_state: The new hidden state.\n",
    "\n",
    "        \"\"\"\n",
    "        \n",
    "        # TODO Implement \n",
    "        embedding_out = self.embedding(nn_input)\n",
    "        \n",
    "        lstm_out, hidden_state = self.lstm(embedding_out, hidden_state)\n",
    "        \n",
    "        lstm_out = lstm_out[-1,:,:]\n",
    "        \n",
    "        final_out = self.linear(lstm_out) \n",
    "       # final_out = self.linear(self.dropout(lstm_out)) Alternative solution\n",
    "        \n",
    "        logps = self.softmax(final_out)\n",
    "        \n",
    "        return logps, hidden_state"
   ]
  },
  {
   "cell_type": "markdown",
   "metadata": {},
   "source": [
    "### View Model"
   ]
  },
  {
   "cell_type": "code",
   "execution_count": 37,
   "metadata": {},
   "outputs": [
    {
     "name": "stdout",
     "output_type": "stream",
     "text": [
      "tensor([[-1.7093, -1.5160, -1.8039, -1.5982, -1.4589],\n",
      "        [-1.6965, -1.5110, -1.8311, -1.6110, -1.4436],\n",
      "        [-1.7007, -1.5227, -1.8083, -1.5987, -1.4557],\n",
      "        [-1.7200, -1.5172, -1.8164, -1.5876, -1.4500]],\n",
      "       grad_fn=<LogSoftmaxBackward>)\n"
     ]
    }
   ],
   "source": [
    "model = TextClassifier(len(vocab), 10, 6, 5, dropout=0.4, lstm_layers=2)\n",
    "model.embedding.weight.data.uniform_(-1, 1)\n",
    "input = torch.randint(0, 1000, (5, 4), dtype=torch.int64)\n",
    "hidden = model.init_hidden(4)\n",
    "\n",
    "logps, _ = model.forward(input, hidden)\n",
    "print(logps)"
   ]
  },
  {
   "cell_type": "markdown",
   "metadata": {},
   "source": [
    "## Training\n",
    "### DataLoaders and Batching\n",
    "Now we should build a generator that we can use to loop through our data. It'll be more efficient if we can pass our sequences in as batches. Our input tensors should look like `(sequence_length, batch_size)`. So if our sequences are 40 tokens long and we pass in 25 sequences, then we'd have an input size of `(40, 25)`.\n",
    "\n",
    "If we set our sequence length to 40, what do we do with messages that are more or less than 40 tokens? For messages with fewer than 40 tokens, we will pad the empty spots with zeros. We should be sure to **left** pad so that the RNN starts from nothing before going through the data. If the message has 20 tokens, then the first 20 spots of our 40 long sequence will be 0. If a message has more than 40 tokens, we'll just keep the first 40 tokens."
   ]
  },
  {
   "cell_type": "code",
   "execution_count": 38,
   "metadata": {},
   "outputs": [],
   "source": [
    "def dataloader(messages, labels, sequence_length=30, batch_size=32, shuffle=False):\n",
    "    \"\"\" \n",
    "    Build a dataloader.\n",
    "    \"\"\"\n",
    "    if shuffle:\n",
    "        indices = list(range(len(messages)))\n",
    "        random.shuffle(indices)\n",
    "        messages = [messages[idx] for idx in indices]\n",
    "        labels = [labels[idx] for idx in indices]\n",
    "\n",
    "    total_sequences = len(messages)\n",
    "\n",
    "    for ii in range(0, total_sequences, batch_size):\n",
    "        batch_messages = messages[ii: ii+batch_size]\n",
    "        \n",
    "        # First initialize a tensor of all zeros\n",
    "        batch = torch.zeros((sequence_length, len(batch_messages)), dtype=torch.int64)\n",
    "        for batch_num, tokens in enumerate(batch_messages):\n",
    "            token_tensor = torch.tensor(tokens)\n",
    "            # Left pad!\n",
    "            start_idx = max(sequence_length - len(token_tensor), 0)\n",
    "            batch[start_idx:, batch_num] = token_tensor[:sequence_length]\n",
    "        \n",
    "        label_tensor = torch.tensor(labels[ii: ii+len(batch_messages)])\n",
    "        \n",
    "        yield batch, label_tensor"
   ]
  },
  {
   "cell_type": "markdown",
   "metadata": {},
   "source": [
    "### Training and  Validation\n",
    "With our data in nice shape, we'll split it into training and validation sets."
   ]
  },
  {
   "cell_type": "code",
   "execution_count": 39,
   "metadata": {},
   "outputs": [],
   "source": [
    "\"\"\"\n",
    "Split data into training and validation datasets. Use an appropriate split size.\n",
    "The features are the `token_ids` and the labels are the `sentiments`.\n",
    "\"\"\"   \n",
    "\n",
    "# TODO Implement \n",
    "split_train = np.int(0.80 * len(token_ids))\n",
    "split_valid = np.int(0.20 * len(token_ids))\n",
    "#split_test = 0.1\n",
    "\n",
    "\n",
    "train_features = token_ids[:split_train]\n",
    "valid_features = token_ids[split_train:split_train+split_valid]\n",
    "train_labels = sentiments[:split_train]\n",
    "valid_labels = sentiments[split_train:split_train+split_valid]"
   ]
  },
  {
   "cell_type": "code",
   "execution_count": 40,
   "metadata": {},
   "outputs": [],
   "source": [
    "text_batch, labels = next(iter(dataloader(train_features, train_labels, sequence_length=20, batch_size=64)))\n",
    "model = TextClassifier(len(vocab)+1, 200, 128, 5, dropout=0.2)\n",
    "hidden = model.init_hidden(64)\n",
    "logps, hidden = model.forward(text_batch, hidden)"
   ]
  },
  {
   "cell_type": "markdown",
   "metadata": {},
   "source": [
    "### Training\n",
    "It's time to train the neural network!"
   ]
  },
  {
   "cell_type": "code",
   "execution_count": 46,
   "metadata": {},
   "outputs": [
    {
     "name": "stdout",
     "output_type": "stream",
     "text": [
      "cuda\n"
     ]
    },
    {
     "data": {
      "text/plain": [
       "TextClassifier(\n",
       "  (embedding): Embedding(98405, 1024)\n",
       "  (lstm): LSTM(1024, 512, num_layers=2, dropout=0.5)\n",
       "  (dropout): Dropout(p=0.5, inplace=False)\n",
       "  (linear): Linear(in_features=512, out_features=5, bias=True)\n",
       "  (softmax): LogSoftmax(dim=1)\n",
       ")"
      ]
     },
     "execution_count": 46,
     "metadata": {},
     "output_type": "execute_result"
    }
   ],
   "source": [
    "device = torch.device(\"cuda\" if torch.cuda.is_available() else \"cpu\")\n",
    "print(device)\n",
    "model = TextClassifier(len(vocab)+1, 1024, 512, 5, lstm_layers=2, dropout=0.5)\n",
    "model.embedding.weight.data.uniform_(-1, 1)\n",
    "model.to(device)"
   ]
  },
  {
   "cell_type": "code",
   "execution_count": 47,
   "metadata": {},
   "outputs": [
    {
     "name": "stdout",
     "output_type": "stream",
     "text": [
      "Starting epoch 1\n"
     ]
    },
    {
     "name": "stderr",
     "output_type": "stream",
     "text": [
      "C:\\Users\\Phil\\.conda\\envs\\ai4t\\lib\\site-packages\\ipykernel_launcher.py:35: UserWarning: torch.nn.utils.clip_grad_norm is now deprecated in favor of torch.nn.utils.clip_grad_norm_.\n"
     ]
    },
    {
     "name": "stdout",
     "output_type": "stream",
     "text": [
      "Epoch: 1 - step: 100 - Average validation loss: 1.2738942163120401 - Average loss: 1.4428564369678498\n",
      "Epoch: 1 - step: 200 - Average validation loss: 1.1472796961517617 - Average loss: 1.3103993719816207\n",
      "Epoch: 1 - step: 300 - Average validation loss: 1.087389560471667 - Average loss: 1.2388641923666\n",
      "Epoch: 1 - step: 400 - Average validation loss: 1.044661337343773 - Average loss: 1.1905997717380523\n",
      "Epoch: 1 - step: 500 - Average validation loss: 1.0212884073210236 - Average loss: 1.1550885199308396\n",
      "Epoch: 1 - step: 600 - Average validation loss: 1.0039627531377395 - Average loss: 1.1268242648243905\n",
      "Epoch: 1 - step: 700 - Average validation loss: 0.9734333962349608 - Average loss: 1.1026762157678605\n",
      "Epoch: 1 - step: 800 - Average validation loss: 0.9488877330971236 - Average loss: 1.082454222664237\n",
      "Epoch: 1 - step: 900 - Average validation loss: 0.9375115280399228 - Average loss: 1.0645242406262292\n",
      "Epoch: 1 - step: 1000 - Average validation loss: 0.9196518631559787 - Average loss: 1.049086316883564\n",
      "Epoch: 1 - step: 1100 - Average validation loss: 0.9197341613102668 - Average loss: 1.03511293833906\n",
      "Epoch: 1 - step: 1200 - Average validation loss: 0.9003897729781595 - Average loss: 1.022962433596452\n",
      "Epoch: 1 - step: 1300 - Average validation loss: 0.894656934729307 - Average loss: 1.0118913943033951\n",
      "Epoch: 1 - step: 1400 - Average validation loss: 0.8775533327814375 - Average loss: 1.0021017891168595\n",
      "Epoch: 1 - step: 1500 - Average validation loss: 0.8758835940815435 - Average loss: 0.9926697277625401\n",
      "Epoch: 1 - step: 1600 - Average validation loss: 0.8682385605603161 - Average loss: 0.9838367316499352\n",
      "Starting epoch 2\n",
      "Epoch: 2 - step: 100 - Average validation loss: 0.854576724295569 - Average loss: 0.8238032358884811\n",
      "Epoch: 2 - step: 200 - Average validation loss: 0.8550142229045972 - Average loss: 0.8211566051840782\n",
      "Epoch: 2 - step: 300 - Average validation loss: 0.8422951336839412 - Average loss: 0.8195666754245758\n",
      "Epoch: 2 - step: 400 - Average validation loss: 0.8382990357309285 - Average loss: 0.8186911171674729\n",
      "Epoch: 2 - step: 500 - Average validation loss: 0.8327232088045319 - Average loss: 0.8173546768426895\n",
      "Epoch: 2 - step: 600 - Average validation loss: 0.828515862474347 - Average loss: 0.8156777676939965\n",
      "Epoch: 2 - step: 700 - Average validation loss: 0.8238366036721976 - Average loss: 0.8135588741302491\n",
      "Epoch: 2 - step: 800 - Average validation loss: 0.823806758269225 - Average loss: 0.8117647170275449\n",
      "Epoch: 2 - step: 900 - Average validation loss: 0.8127496703573973 - Average loss: 0.8102307046784295\n",
      "Epoch: 2 - step: 1000 - Average validation loss: 0.8102008071866366 - Average loss: 0.8082933703064918\n",
      "Epoch: 2 - step: 1100 - Average validation loss: 0.8068486765617191 - Average loss: 0.8061814602396705\n",
      "Epoch: 2 - step: 1200 - Average validation loss: 0.8060718386775196 - Average loss: 0.8043321888148784\n",
      "Epoch: 2 - step: 1300 - Average validation loss: 0.7978254457806596 - Average loss: 0.8022818586918024\n",
      "Epoch: 2 - step: 1400 - Average validation loss: 0.7963934203628267 - Average loss: 0.8004970780866487\n",
      "Epoch: 2 - step: 1500 - Average validation loss: 0.7957781978910512 - Average loss: 0.7989812670151393\n",
      "Epoch: 2 - step: 1600 - Average validation loss: 0.7945556460630776 - Average loss: 0.7975860566273332\n",
      "Starting epoch 3\n",
      "Epoch: 3 - step: 100 - Average validation loss: 0.7871117797670978 - Average loss: 0.7529984050989151\n",
      "Epoch: 3 - step: 200 - Average validation loss: 0.7857875285467298 - Average loss: 0.7505148151516914\n",
      "Epoch: 3 - step: 300 - Average validation loss: 0.7832118092787148 - Average loss: 0.7480913845698038\n",
      "Epoch: 3 - step: 400 - Average validation loss: 0.7856391975195101 - Average loss: 0.7475165283679962\n",
      "Epoch: 3 - step: 500 - Average validation loss: 0.7807669380661284 - Average loss: 0.7464294790029525\n",
      "Epoch: 3 - step: 600 - Average validation loss: 0.784546796859491 - Average loss: 0.7467643668254217\n",
      "Epoch: 3 - step: 700 - Average validation loss: 0.7785026414854692 - Average loss: 0.7458704111405782\n",
      "Epoch: 3 - step: 800 - Average validation loss: 0.7743003692219753 - Average loss: 0.7450148653239012\n",
      "Epoch: 3 - step: 900 - Average validation loss: 0.7724653445553071 - Average loss: 0.7448591089248657\n",
      "Epoch: 3 - step: 1000 - Average validation loss: 0.7718540788582056 - Average loss: 0.7442755388617516\n",
      "Epoch: 3 - step: 1100 - Average validation loss: 0.767953821780658 - Average loss: 0.7437593034722588\n",
      "Epoch: 3 - step: 1200 - Average validation loss: 0.76744511266156 - Average loss: 0.7430539422233899\n",
      "Epoch: 3 - step: 1300 - Average validation loss: 0.7681446064374234 - Average loss: 0.7417851625039027\n",
      "Epoch: 3 - step: 1400 - Average validation loss: 0.7619979519507672 - Average loss: 0.7404669822539602\n",
      "Epoch: 3 - step: 1500 - Average validation loss: 0.7620005851039792 - Average loss: 0.7402771824200948\n",
      "Epoch: 3 - step: 1600 - Average validation loss: 0.7586577615082855 - Average loss: 0.7395915602520108\n",
      "Starting epoch 4\n",
      "Epoch: 4 - step: 100 - Average validation loss: 0.7574333738129918 - Average loss: 0.7054795098304748\n",
      "Epoch: 4 - step: 200 - Average validation loss: 0.7579338827935775 - Average loss: 0.7040734621882438\n",
      "Epoch: 4 - step: 300 - Average validation loss: 0.7600354460796507 - Average loss: 0.7060011621316274\n",
      "Epoch: 4 - step: 400 - Average validation loss: 0.756474528646115 - Average loss: 0.7047848269343376\n",
      "Epoch: 4 - step: 500 - Average validation loss: 0.7584914582053034 - Average loss: 0.7045670666694641\n",
      "Epoch: 4 - step: 600 - Average validation loss: 0.7532914636453779 - Average loss: 0.7048955550789833\n",
      "Epoch: 4 - step: 700 - Average validation loss: 0.7651887055818397 - Average loss: 0.7043881457192557\n",
      "Epoch: 4 - step: 800 - Average validation loss: 0.755598518517938 - Average loss: 0.703964009359479\n",
      "Epoch: 4 - step: 900 - Average validation loss: 0.7507243765757816 - Average loss: 0.7035856699943542\n",
      "Epoch: 4 - step: 1000 - Average validation loss: 0.7536429917015651 - Average loss: 0.7040055618286133\n",
      "Epoch: 4 - step: 1100 - Average validation loss: 0.7490099186059271 - Average loss: 0.7035555719245564\n",
      "Epoch: 4 - step: 1200 - Average validation loss: 0.7541404385672937 - Average loss: 0.7036664174993833\n",
      "Epoch: 4 - step: 1300 - Average validation loss: 0.7455310831860741 - Average loss: 0.7036243104476195\n",
      "Epoch: 4 - step: 1400 - Average validation loss: 0.7500545697489588 - Average loss: 0.7036482667922974\n",
      "Epoch: 4 - step: 1500 - Average validation loss: 0.7485138473681884 - Average loss: 0.7030401517152787\n",
      "Epoch: 4 - step: 1600 - Average validation loss: 0.7386206967553289 - Average loss: 0.7032008669525385\n",
      "Starting epoch 5\n",
      "Epoch: 5 - step: 100 - Average validation loss: 0.7536682220231189 - Average loss: 0.6689110004901886\n",
      "Epoch: 5 - step: 200 - Average validation loss: 0.7477343040380148 - Average loss: 0.6725534617900848\n",
      "Epoch: 5 - step: 300 - Average validation loss: 0.7467207528724529 - Average loss: 0.6729009981950124\n",
      "Epoch: 5 - step: 400 - Average validation loss: 0.7506595827122726 - Average loss: 0.6727528688311577\n",
      "Epoch: 5 - step: 500 - Average validation loss: 0.7461296542741285 - Average loss: 0.6739808551073074\n",
      "Epoch: 5 - step: 600 - Average validation loss: 0.746381622582379 - Average loss: 0.674881892601649\n",
      "Epoch: 5 - step: 700 - Average validation loss: 0.746011217041771 - Average loss: 0.6755680226428168\n",
      "Epoch: 5 - step: 800 - Average validation loss: 0.742673017305903 - Average loss: 0.6758088427782059\n",
      "Epoch: 5 - step: 900 - Average validation loss: 0.7441119206423806 - Average loss: 0.6755951644976934\n",
      "Epoch: 5 - step: 1000 - Average validation loss: 0.7423423250565434 - Average loss: 0.6746859673857689\n",
      "Epoch: 5 - step: 1100 - Average validation loss: 0.7448001692053114 - Average loss: 0.674817299246788\n",
      "Epoch: 5 - step: 1200 - Average validation loss: 0.7402468023471312 - Average loss: 0.6756064007182916\n",
      "Epoch: 5 - step: 1300 - Average validation loss: 0.7419560080265054 - Average loss: 0.6755616039037704\n",
      "Epoch: 5 - step: 1400 - Average validation loss: 0.7362150302765393 - Average loss: 0.6755662370579584\n",
      "Epoch: 5 - step: 1500 - Average validation loss: 0.7418914331067906 - Average loss: 0.6752691160440445\n"
     ]
    },
    {
     "name": "stdout",
     "output_type": "stream",
     "text": [
      "Epoch: 5 - step: 1600 - Average validation loss: 0.7363941687906143 - Average loss: 0.6751216633245349\n",
      "Starting epoch 6\n",
      "Epoch: 6 - step: 100 - Average validation loss: 0.7460490565488834 - Average loss: 0.6478791427612305\n",
      "Epoch: 6 - step: 200 - Average validation loss: 0.7467362722843001 - Average loss: 0.6505176395177841\n",
      "Epoch: 6 - step: 300 - Average validation loss: 0.746189690757506 - Average loss: 0.6493942105770111\n",
      "Epoch: 6 - step: 400 - Average validation loss: 0.7461268094063985 - Average loss: 0.6483638170361519\n",
      "Epoch: 6 - step: 500 - Average validation loss: 0.7449337363538175 - Average loss: 0.6472866818904877\n",
      "Epoch: 6 - step: 600 - Average validation loss: 0.7373477254468616 - Average loss: 0.6498223669330279\n",
      "Epoch: 6 - step: 700 - Average validation loss: 0.739733422304144 - Average loss: 0.6495642492600849\n",
      "Epoch: 6 - step: 800 - Average validation loss: 0.738925013728071 - Average loss: 0.6488326769322157\n",
      "Epoch: 6 - step: 900 - Average validation loss: 0.7396467920429636 - Average loss: 0.6493928872214423\n",
      "Epoch: 6 - step: 1000 - Average validation loss: 0.7432454550030207 - Average loss: 0.6493558515906334\n",
      "Epoch: 6 - step: 1100 - Average validation loss: 0.7398957637424516 - Average loss: 0.6488137550245632\n",
      "Epoch: 6 - step: 1200 - Average validation loss: 0.7347545964588033 - Average loss: 0.6489644800623258\n",
      "Epoch: 6 - step: 1300 - Average validation loss: 0.7388957789776349 - Average loss: 0.6493917325826791\n",
      "Epoch: 6 - step: 1400 - Average validation loss: 0.737124119433436 - Average loss: 0.6494160356266158\n",
      "Epoch: 6 - step: 1500 - Average validation loss: 0.7400732353919803 - Average loss: 0.6497250137329101\n",
      "Epoch: 6 - step: 1600 - Average validation loss: 0.7375578971782534 - Average loss: 0.6498563603684306\n",
      "Starting epoch 7\n",
      "Epoch: 7 - step: 100 - Average validation loss: 0.7429478825023859 - Average loss: 0.6167987251281738\n",
      "Epoch: 7 - step: 200 - Average validation loss: 0.751888143617918 - Average loss: 0.6198097720742226\n",
      "Epoch: 7 - step: 300 - Average validation loss: 0.746038103015116 - Average loss: 0.6205451945463817\n",
      "Epoch: 7 - step: 400 - Average validation loss: 0.7487258719335689 - Average loss: 0.6213200020790101\n",
      "Epoch: 7 - step: 500 - Average validation loss: 0.7441287826340978 - Average loss: 0.6226768885850906\n",
      "Epoch: 7 - step: 600 - Average validation loss: 0.745565989377475 - Average loss: 0.6245049052437146\n",
      "Epoch: 7 - step: 700 - Average validation loss: 0.7459338399590832 - Average loss: 0.6250381323269435\n",
      "Epoch: 7 - step: 800 - Average validation loss: 0.7404729264354942 - Average loss: 0.6255260039120912\n",
      "Epoch: 7 - step: 900 - Average validation loss: 0.741068686589156 - Average loss: 0.6258337995741102\n",
      "Epoch: 7 - step: 1000 - Average validation loss: 0.7449696634222965 - Average loss: 0.6258243449926376\n",
      "Epoch: 7 - step: 1100 - Average validation loss: 0.7508715153625696 - Average loss: 0.6257315813411366\n",
      "Epoch: 7 - step: 1200 - Average validation loss: 0.7403059882102626 - Average loss: 0.6264531236390273\n",
      "Epoch: 7 - step: 1300 - Average validation loss: 0.7448038580541564 - Average loss: 0.6262942736423932\n",
      "Epoch: 7 - step: 1400 - Average validation loss: 0.7472485399777347 - Average loss: 0.6262520827140127\n",
      "Epoch: 7 - step: 1500 - Average validation loss: 0.73656629778371 - Average loss: 0.6263020882606506\n",
      "Epoch: 7 - step: 1600 - Average validation loss: 0.7384585449748701 - Average loss: 0.6268948609009385\n",
      "Starting epoch 8\n",
      "Epoch: 8 - step: 100 - Average validation loss: 0.7507109816121583 - Average loss: 0.5940740704536438\n",
      "Epoch: 8 - step: 200 - Average validation loss: 0.7509916000584564 - Average loss: 0.5951438021659851\n",
      "Epoch: 8 - step: 300 - Average validation loss: 0.7576765308875849 - Average loss: 0.5972855007648468\n",
      "Epoch: 8 - step: 400 - Average validation loss: 0.753049048309279 - Average loss: 0.5994169123470783\n",
      "Epoch: 8 - step: 500 - Average validation loss: 0.7530303470569082 - Average loss: 0.6014280146360398\n",
      "Epoch: 8 - step: 600 - Average validation loss: 0.7524508672333 - Average loss: 0.6015036733448506\n",
      "Epoch: 8 - step: 700 - Average validation loss: 0.7504196231908137 - Average loss: 0.6015116520013128\n",
      "Epoch: 8 - step: 800 - Average validation loss: 0.7530551806534871 - Average loss: 0.6019348857179284\n",
      "Epoch: 8 - step: 900 - Average validation loss: 0.7535385921007336 - Average loss: 0.6019142012132539\n",
      "Epoch: 8 - step: 1000 - Average validation loss: 0.7533602196686339 - Average loss: 0.6021264599263668\n",
      "Epoch: 8 - step: 1100 - Average validation loss: 0.7492913515998585 - Average loss: 0.6023851238597523\n",
      "Epoch: 8 - step: 1200 - Average validation loss: 0.7431252008617515 - Average loss: 0.6032431804140409\n",
      "Epoch: 8 - step: 1300 - Average validation loss: 0.7437057317336007 - Average loss: 0.6037512845259446\n",
      "Epoch: 8 - step: 1400 - Average validation loss: 0.7452025886366863 - Average loss: 0.6039307042956352\n",
      "Epoch: 8 - step: 1500 - Average validation loss: 0.7433429874553539 - Average loss: 0.6039181233644485\n",
      "Epoch: 8 - step: 1600 - Average validation loss: 0.7414515605657408 - Average loss: 0.6042870634049177\n",
      "Starting epoch 9\n",
      "Epoch: 9 - step: 100 - Average validation loss: 0.7686439258332299 - Average loss: 0.5785483032464981\n",
      "Epoch: 9 - step: 200 - Average validation loss: 0.7682288775939753 - Average loss: 0.5761597885191441\n",
      "Epoch: 9 - step: 300 - Average validation loss: 0.7674709356362277 - Average loss: 0.5742988199989001\n",
      "Epoch: 9 - step: 400 - Average validation loss: 0.7651739484897935 - Average loss: 0.5764231141656637\n",
      "Epoch: 9 - step: 500 - Average validation loss: 0.7781799844290951 - Average loss: 0.5771491276025772\n",
      "Epoch: 9 - step: 600 - Average validation loss: 0.7616838609965721 - Average loss: 0.5779943591356278\n",
      "Epoch: 9 - step: 700 - Average validation loss: 0.7625756527085116 - Average loss: 0.5783246961236\n",
      "Epoch: 9 - step: 800 - Average validation loss: 0.7655041952534477 - Average loss: 0.5791588559374213\n",
      "Epoch: 9 - step: 900 - Average validation loss: 0.7668757911513348 - Average loss: 0.5795742764406734\n",
      "Epoch: 9 - step: 1000 - Average validation loss: 0.7660493309987654 - Average loss: 0.5800316014289856\n",
      "Epoch: 9 - step: 1100 - Average validation loss: 0.7754090328765387 - Average loss: 0.5806165885383433\n",
      "Epoch: 9 - step: 1200 - Average validation loss: 0.7597468158248628 - Average loss: 0.5813669554889203\n",
      "Epoch: 9 - step: 1300 - Average validation loss: 0.7592427213445748 - Average loss: 0.5817080736160278\n",
      "Epoch: 9 - step: 1400 - Average validation loss: 0.7648641309230635 - Average loss: 0.5817286868606295\n",
      "Epoch: 9 - step: 1500 - Average validation loss: 0.7613528041113721 - Average loss: 0.5823246876398722\n",
      "Epoch: 9 - step: 1600 - Average validation loss: 0.7622189495233026 - Average loss: 0.5825953103415668\n",
      "Starting epoch 10\n",
      "Epoch: 10 - step: 100 - Average validation loss: 0.783392316634112 - Average loss: 0.5498861563205719\n",
      "Epoch: 10 - step: 200 - Average validation loss: 0.7850746850271036 - Average loss: 0.5502132011950016\n",
      "Epoch: 10 - step: 300 - Average validation loss: 0.7851028769175605 - Average loss: 0.5516144888599713\n",
      "Epoch: 10 - step: 400 - Average validation loss: 0.7762125859608745 - Average loss: 0.5520575487613678\n",
      "Epoch: 10 - step: 500 - Average validation loss: 0.7817736288698593 - Average loss: 0.5521505798101425\n",
      "Epoch: 10 - step: 600 - Average validation loss: 0.7850011633616862 - Average loss: 0.5536852281788985\n",
      "Epoch: 10 - step: 700 - Average validation loss: 0.7904083906571464 - Average loss: 0.5536799278003829\n",
      "Epoch: 10 - step: 800 - Average validation loss: 0.7775387783156763 - Average loss: 0.5554771491512657\n",
      "Epoch: 10 - step: 900 - Average validation loss: 0.7713734059788213 - Average loss: 0.5560021713376045\n",
      "Epoch: 10 - step: 1000 - Average validation loss: 0.7972714121241381 - Average loss: 0.556774102061987\n",
      "Epoch: 10 - step: 1100 - Average validation loss: 0.784772915710317 - Average loss: 0.5573559758338061\n",
      "Epoch: 10 - step: 1200 - Average validation loss: 0.7867571668017028 - Average loss: 0.5572241760541995\n",
      "Epoch: 10 - step: 1300 - Average validation loss: 0.7762967275805993 - Average loss: 0.5581152151181148\n",
      "Epoch: 10 - step: 1400 - Average validation loss: 0.7759423286165341 - Average loss: 0.558542487429721\n"
     ]
    },
    {
     "name": "stdout",
     "output_type": "stream",
     "text": [
      "Epoch: 10 - step: 1500 - Average validation loss: 0.7830123278764215 - Average loss: 0.5590425907770793\n",
      "Epoch: 10 - step: 1600 - Average validation loss: 0.7740165085190593 - Average loss: 0.5592809526994824\n",
      "Starting epoch 11\n",
      "Epoch: 11 - step: 100 - Average validation loss: 0.8109372958245844 - Average loss: 0.5271795952320099\n",
      "Epoch: 11 - step: 200 - Average validation loss: 0.8142135911206207 - Average loss: 0.5245049165189266\n",
      "Epoch: 11 - step: 300 - Average validation loss: 0.8089385903855362 - Average loss: 0.5267528028289477\n",
      "Epoch: 11 - step: 400 - Average validation loss: 0.8234564330760795 - Average loss: 0.5290692623704671\n",
      "Epoch: 11 - step: 500 - Average validation loss: 0.8080619078609023 - Average loss: 0.530669937312603\n",
      "Epoch: 11 - step: 600 - Average validation loss: 0.8293441544369896 - Average loss: 0.5308278539776802\n",
      "Epoch: 11 - step: 700 - Average validation loss: 0.8050728620278953 - Average loss: 0.5321851313965661\n",
      "Epoch: 11 - step: 800 - Average validation loss: 0.8158500794284415 - Average loss: 0.5322394323721528\n",
      "Epoch: 11 - step: 900 - Average validation loss: 0.8121465162770583 - Average loss: 0.5326160344812605\n",
      "Epoch: 11 - step: 1000 - Average validation loss: 0.8084300712931274 - Average loss: 0.5330582263767719\n",
      "Epoch: 11 - step: 1100 - Average validation loss: 0.812192353724253 - Average loss: 0.5339389623295178\n",
      "Epoch: 11 - step: 1200 - Average validation loss: 0.79174723653215 - Average loss: 0.534150650302569\n",
      "Epoch: 11 - step: 1300 - Average validation loss: 0.8135561780026643 - Average loss: 0.534496214894148\n",
      "Epoch: 11 - step: 1400 - Average validation loss: 0.800876250951597 - Average loss: 0.5347243869730405\n",
      "Epoch: 11 - step: 1500 - Average validation loss: 0.7975275840352077 - Average loss: 0.5354058785041174\n",
      "Epoch: 11 - step: 1600 - Average validation loss: 0.798629552863612 - Average loss: 0.5363119564764202\n",
      "Starting epoch 12\n",
      "Epoch: 12 - step: 100 - Average validation loss: 0.8277297790097718 - Average loss: 0.502595157623291\n",
      "Epoch: 12 - step: 200 - Average validation loss: 0.8357154868616916 - Average loss: 0.5056773440539837\n",
      "Epoch: 12 - step: 300 - Average validation loss: 0.854851978102533 - Average loss: 0.5046324819326401\n",
      "Epoch: 12 - step: 400 - Average validation loss: 0.8349920627061683 - Average loss: 0.5063514797389508\n",
      "Epoch: 12 - step: 500 - Average validation loss: 0.8394476189324172 - Average loss: 0.5075195906758309\n",
      "Epoch: 12 - step: 600 - Average validation loss: 0.8369602928362271 - Average loss: 0.5090475788215796\n",
      "Epoch: 12 - step: 700 - Average validation loss: 0.8438152874460315 - Average loss: 0.5087779089382717\n",
      "Epoch: 12 - step: 800 - Average validation loss: 0.8310219359279859 - Average loss: 0.508567667491734\n",
      "Epoch: 12 - step: 900 - Average validation loss: 0.8374656244079666 - Average loss: 0.5092792098389731\n",
      "Epoch: 12 - step: 1000 - Average validation loss: 0.8438714454227155 - Average loss: 0.5093529182374478\n",
      "Epoch: 12 - step: 1100 - Average validation loss: 0.8494955110963028 - Average loss: 0.5099943267486312\n",
      "Epoch: 12 - step: 1200 - Average validation loss: 0.8375530947405513 - Average loss: 0.5111820803085962\n",
      "Epoch: 12 - step: 1300 - Average validation loss: 0.8366927679369945 - Average loss: 0.511804316341877\n",
      "Epoch: 12 - step: 1400 - Average validation loss: 0.8397357390806226 - Average loss: 0.512239510438272\n",
      "Epoch: 12 - step: 1500 - Average validation loss: 0.8444605894608073 - Average loss: 0.5129624464909236\n",
      "Epoch: 12 - step: 1600 - Average validation loss: 0.8397313751796684 - Average loss: 0.5133814814686776\n"
     ]
    }
   ],
   "source": [
    "\"\"\"\n",
    "Train your model with dropout. Make sure to clip your gradients.\n",
    "Print the training loss, validation loss, and validation accuracy for every 100 steps.\n",
    "\"\"\"\n",
    "\n",
    "epochs = 12\n",
    "batch_size = 512\n",
    "learning_rate = 0.0001\n",
    "clip = 5\n",
    "print_every = 100\n",
    "criterion = nn.NLLLoss()\n",
    "optimizer = optim.Adam(model.parameters(), lr=learning_rate)\n",
    "model.train()\n",
    "\n",
    "for epoch in range(epochs):\n",
    "    print('Starting epoch {}'.format(epoch + 1))\n",
    "    losses = []\n",
    "    steps = 0\n",
    "    for text_batch, labels in dataloader(\n",
    "            train_features, train_labels, batch_size=batch_size, sequence_length=20, shuffle=True):\n",
    "        steps += 1\n",
    "        #print(f'We are @ step {steps}')\n",
    "        hidden = model.init_hidden(labels.shape[0])\n",
    "        \n",
    "        # Set Device\n",
    "        text_batch, labels = text_batch.to(device), labels.to(device)\n",
    "        for each in hidden:\n",
    "            each.to(device)\n",
    "        \n",
    "        # TODO Implement: Train Model\n",
    "        model.zero_grad()\n",
    "        output, hidden = model(text_batch, hidden)\n",
    "        loss = criterion(output, labels)\n",
    "        loss.backward()\n",
    "        torch.nn.utils.clip_grad_norm_(model.parameters(), clip)\n",
    "        optimizer.step()\n",
    "        losses.append(loss.item())\n",
    "        if steps % print_every == 0:\n",
    "            model.eval()\n",
    "            eval_losses = []\n",
    "            debug = 0\n",
    "            for eval_batch, eval_labels in dataloader(valid_features, valid_labels, batch_size=batch_size):\n",
    "                #print(f'Debug {debug} - predevice')\n",
    "                eval_batch, eval_labels = eval_batch.to(device), eval_labels.to(device)\n",
    "                #print(f'Debug {debug} - eval_hidden')\n",
    "                eval_hidden = model.init_hidden(eval_labels.shape[0])\n",
    "                #print(f'Debug {debug} - hidden2device')\n",
    "                #eval_hidden = eval_hidden.to(device)\n",
    "                for each in eval_hidden:\n",
    "                    each.to(device)\n",
    "                #print(f'Debug {debug} - output')\n",
    "                eval_output, eval_hidden = model(eval_batch, eval_hidden)\n",
    "                #print(f'Debug {debug} - evaloss')\n",
    "                eval_loss = criterion(eval_output, eval_labels)\n",
    "                #print(f'Debug {debug} - add2eval_losses')\n",
    "                eval_losses.append(eval_loss.item())\n",
    "                debug += 1\n",
    "                #if debug % 25 == 0:\n",
    "                    #print(f'Debug {debug} - Batch End')           \n",
    "            # TODO Implement: Print metrics\n",
    "            print(f'Epoch: {epoch+1} - step: {steps} - Average validation loss: {np.mean(eval_losses)} - Average loss: {np.mean(losses)}')\n",
    "            model.train()"
   ]
  },
  {
   "cell_type": "code",
   "execution_count": 49,
   "metadata": {},
   "outputs": [],
   "source": [
    "torch.save(model.state_dict(), f'dict_modelp6_ai4t_{device}_{batch_size}_{epochs}_{learning_rate}_clip')\n",
    "#model.load_state_dict(torch.load('dict_modelp6_ai4t_{device}_{batch_size}_{epochs}_{learning_rate}'))"
   ]
  },
  {
   "cell_type": "markdown",
   "metadata": {},
   "source": [
    "## Making Predictions\n",
    "### Prediction \n",
    "Okay, now that you have a trained model, try it on some new twits and see if it works appropriately. Remember that for any new text, you'll need to preprocess it first before passing it to the network. Implement the `predict` function to generate the prediction vector from a message."
   ]
  },
  {
   "cell_type": "code",
   "execution_count": null,
   "metadata": {},
   "outputs": [],
   "source": [
    "def predict(text, model, vocab):\n",
    "    \"\"\" \n",
    "    Make a prediction on a single sentence.\n",
    "\n",
    "    Parameters\n",
    "    ----------\n",
    "        text : The string to make a prediction on.\n",
    "        model : The model to use for making the prediction.\n",
    "        vocab : Dictionary for word to word ids. The key is the word and the value is the word id.\n",
    "\n",
    "    Returns\n",
    "    -------\n",
    "        pred : Prediction vector\n",
    "    \"\"\"    \n",
    "    \n",
    "    # TODO Implement\n",
    "    \n",
    "    tokens = preprocess(text)\n",
    "    \n",
    "    # Filter non-vocab words\n",
    "    tokens = pass\n",
    "    # Convert words to ids\n",
    "    tokens = pass\n",
    "        \n",
    "    # Adding a batch dimension\n",
    "    text_input = pass\n",
    "    # Get the NN output\n",
    "    hidden = pass\n",
    "    logps, _ = pass\n",
    "    # Take the exponent of the NN output to get a range of 0 to 1 for each label.\n",
    "    pred = pass\n",
    "    \n",
    "    return pred"
   ]
  },
  {
   "cell_type": "code",
   "execution_count": null,
   "metadata": {},
   "outputs": [],
   "source": [
    "text = \"Google is working on self driving cars, I'm bullish on $goog\"\n",
    "model.eval()\n",
    "model.to(device)\n",
    "predict(text, model, vocab)"
   ]
  },
  {
   "cell_type": "markdown",
   "metadata": {},
   "source": [
    "### Questions: What is the prediction of the model? What is the uncertainty of the prediction?\n",
    "** TODO: Answer Question**"
   ]
  },
  {
   "cell_type": "markdown",
   "metadata": {},
   "source": [
    "Now we have a trained model and we can make predictions. We can use this model to track the sentiments of various stocks by predicting the sentiments of twits as they are coming in. Now we have a stream of twits. For each of those twits, pull out the stocks mentioned in them and keep track of the sentiments. Remember that in the twits, ticker symbols are encoded with a dollar sign as the first character, all caps, and 2-4 letters, like $AAPL. Ideally, you'd want to track the sentiments of the stocks in your universe and use this as a signal in your larger model(s).\n",
    "\n",
    "## Testing\n",
    "### Load the Data "
   ]
  },
  {
   "cell_type": "code",
   "execution_count": null,
   "metadata": {},
   "outputs": [],
   "source": [
    "with open(os.path.join('..', '..', 'data', 'project_6_stocktwits', 'test_twits.json'), 'r') as f:\n",
    "    test_data = json.load(f)"
   ]
  },
  {
   "cell_type": "markdown",
   "metadata": {},
   "source": [
    "### Twit Stream"
   ]
  },
  {
   "cell_type": "code",
   "execution_count": null,
   "metadata": {},
   "outputs": [],
   "source": [
    "def twit_stream():\n",
    "    for twit in test_data['data']:\n",
    "        yield twit\n",
    "\n",
    "next(twit_stream())"
   ]
  },
  {
   "cell_type": "markdown",
   "metadata": {},
   "source": [
    "Using the `prediction` function, let's apply it to a stream of twits."
   ]
  },
  {
   "cell_type": "code",
   "execution_count": null,
   "metadata": {},
   "outputs": [],
   "source": [
    "def score_twits(stream, model, vocab, universe):\n",
    "    \"\"\" \n",
    "    Given a stream of twits and a universe of tickers, return sentiment scores for tickers in the universe.\n",
    "    \"\"\"\n",
    "    for twit in stream:\n",
    "\n",
    "        # Get the message text\n",
    "        text = twit['message_body']\n",
    "        symbols = re.findall('\\$[A-Z]{2,4}', text)\n",
    "        score = predict(text, model, vocab)\n",
    "\n",
    "        for symbol in symbols:\n",
    "            if symbol in universe:\n",
    "                yield {'symbol': symbol, 'score': score, 'timestamp': twit['timestamp']}"
   ]
  },
  {
   "cell_type": "code",
   "execution_count": null,
   "metadata": {},
   "outputs": [],
   "source": [
    "universe = {'$BBRY', '$AAPL', '$AMZN', '$BABA', '$YHOO', '$LQMT', '$FB', '$GOOG', '$BBBY', '$JNUG', '$SBUX', '$MU'}\n",
    "score_stream = score_twits(twit_stream(), model, vocab, universe)\n",
    "\n",
    "next(score_stream)"
   ]
  },
  {
   "cell_type": "markdown",
   "metadata": {},
   "source": [
    "That's it. You have successfully built a model for sentiment analysis! "
   ]
  },
  {
   "cell_type": "markdown",
   "metadata": {},
   "source": [
    "## Submission\n",
    "Now that you're done with the project, it's time to submit it. Click the submit button in the bottom right. One of our reviewers will give you feedback on your project with a pass or not passed grade. You can continue to the next section while you wait for feedback."
   ]
  }
 ],
 "metadata": {
  "kernelspec": {
   "display_name": "Python 3",
   "language": "python",
   "name": "python3"
  },
  "language_info": {
   "codemirror_mode": {
    "name": "ipython",
    "version": 3
   },
   "file_extension": ".py",
   "mimetype": "text/x-python",
   "name": "python",
   "nbconvert_exporter": "python",
   "pygments_lexer": "ipython3",
   "version": "3.6.12"
  }
 },
 "nbformat": 4,
 "nbformat_minor": 2
}
